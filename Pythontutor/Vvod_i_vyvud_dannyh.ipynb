{
 "cells": [
  {
   "cell_type": "code",
   "execution_count": 1,
   "metadata": {},
   "outputs": [
    {
     "name": "stdout",
     "output_type": "stream",
     "text": [
      "Enter 1st num: \n"
     ]
    },
    {
     "name": "stdin",
     "output_type": "stream",
     "text": [
      " 23\n"
     ]
    },
    {
     "name": "stdout",
     "output_type": "stream",
     "text": [
      "Enter 2nd num: \n"
     ]
    },
    {
     "name": "stdin",
     "output_type": "stream",
     "text": [
      " 2\n"
     ]
    },
    {
     "name": "stdout",
     "output_type": "stream",
     "text": [
      "Enter 3rd num: \n"
     ]
    },
    {
     "name": "stdin",
     "output_type": "stream",
     "text": [
      " 5\n"
     ]
    },
    {
     "name": "stdout",
     "output_type": "stream",
     "text": [
      "Summ of nums is: 30\n"
     ]
    }
   ],
   "source": [
    "# Sum of 3rd nums\n",
    "# The task counts summ of 3rd nums.\n",
    "\n",
    "print(\"Enter 1st num: \")\n",
    "num_1 = int(input())\n",
    "\n",
    "print(\"Enter 2nd num: \")\n",
    "num_2 = int(input())\n",
    "\n",
    "print(\"Enter 3rd num: \")\n",
    "num_3 = int(input())\n",
    "\n",
    "def sum_of_nums(a, b, c):\n",
    "    rez = 0\n",
    "    rez = a + b + c\n",
    "    print(f\"Summ of nums is: {rez}\")\n",
    "\n",
    "sum_of_nums(num_1, num_2, num_3)"
   ]
  },
  {
   "cell_type": "code",
   "execution_count": null,
   "metadata": {},
   "outputs": [],
   "source": []
  },
  {
   "cell_type": "code",
   "execution_count": 2,
   "metadata": {},
   "outputs": [
    {
     "name": "stdout",
     "output_type": "stream",
     "text": [
      "Enter len of katet_b: \n"
     ]
    },
    {
     "name": "stdin",
     "output_type": "stream",
     "text": [
      " 5\n"
     ]
    },
    {
     "name": "stdout",
     "output_type": "stream",
     "text": [
      "Enter len of katet_h: \n"
     ]
    },
    {
     "name": "stdin",
     "output_type": "stream",
     "text": [
      " 3\n"
     ]
    },
    {
     "name": "stdout",
     "output_type": "stream",
     "text": [
      "Area of a right triangle is: 7.5\n"
     ]
    }
   ],
   "source": [
    "# Right triangle\n",
    "# The task count area of a right triangle.\n",
    "\n",
    "print(\"Enter len of katet_b: \")\n",
    "katet_b = int(input())\n",
    "\n",
    "print(\"Enter len of katet_h: \")\n",
    "katet_h = int(input())\n",
    "\n",
    "def plowa_pr_triangle_func(b, h):\n",
    "    plowa_s = 0.5*b*h\n",
    "    print(f\"Area of a right triangle is: {plowa_s}\")\n",
    "\n",
    "plowa_pr_triangle_func(katet_b, katet_h)"
   ]
  },
  {
   "cell_type": "code",
   "execution_count": null,
   "metadata": {},
   "outputs": [],
   "source": []
  },
  {
   "cell_type": "code",
   "execution_count": 28,
   "metadata": {},
   "outputs": [
    {
     "name": "stdout",
     "output_type": "stream",
     "text": [
      "Enter number of pupils: \n"
     ]
    },
    {
     "name": "stdin",
     "output_type": "stream",
     "text": [
      " 5\n"
     ]
    },
    {
     "name": "stdout",
     "output_type": "stream",
     "text": [
      "Enter number of apples: \n"
     ]
    },
    {
     "name": "stdin",
     "output_type": "stream",
     "text": [
      " 50\n"
     ]
    },
    {
     "name": "stdout",
     "output_type": "stream",
     "text": [
      "Pupils whith apples is: 0. The remainder of apples is: 5\n"
     ]
    }
   ],
   "source": [
    "# Dividing apples\n",
    "# The task is to define how many apples getting each pupils and how many remains.\n",
    "\n",
    "print(\"Enter number of pupils: \")\n",
    "count_of_pupils = int(input())\n",
    "\n",
    "print(\"Enter number of apples: \")\n",
    "count_of_apples = int(input())\n",
    "\n",
    "def apple_func(pupils, apples):\n",
    "    try:\n",
    "        pupils_with_apples = int(pupils / apples)\n",
    "        remainder_of_apples = int(pupils % apples)\n",
    "        print(f\"Pupils whith apples is: {pupils_with_apples}. The remainder of apples is: {remainder_of_apples}\")\n",
    "\n",
    "    except ZeroDivisionError:\n",
    "        print(\"no one getting apples. The basket is empty.\")\n",
    "\n",
    "apple_func(count_of_pupils, count_of_apples)"
   ]
  },
  {
   "cell_type": "code",
   "execution_count": null,
   "metadata": {},
   "outputs": [],
   "source": []
  },
  {
   "cell_type": "code",
   "execution_count": 84,
   "metadata": {},
   "outputs": [
    {
     "name": "stdout",
     "output_type": "stream",
     "text": [
      "Enter count of minutes: \n"
     ]
    },
    {
     "name": "stdin",
     "output_type": "stream",
     "text": [
      " 9876\n"
     ]
    },
    {
     "name": "stdout",
     "output_type": "stream",
     "text": [
      "Electronic clock show as: 20 hours and 36 minutes\n"
     ]
    }
   ],
   "source": [
    "# Electronic clock\n",
    "# The task is finding count of hours and minutes.\n",
    "\n",
    "print(\"Enter count of minutes: \")\n",
    "count_of_minutes = int(input())\n",
    "\n",
    "def electronic_clock_func(minutes):\n",
    "\n",
    "    hours = minutes // 60\n",
    "    \n",
    "    if hours > 23:\n",
    "        hours = hours % 24\n",
    "    \n",
    "    minutes = minutes % 60\n",
    "    \n",
    "    print(\"Electronic clock show as: {} hours and {} minutes\".format(hours, minutes))\n",
    "    \n",
    "electronic_clock_func(count_of_minutes)"
   ]
  },
  {
   "cell_type": "code",
   "execution_count": null,
   "metadata": {},
   "outputs": [],
   "source": []
  },
  {
   "cell_type": "code",
   "execution_count": 99,
   "metadata": {},
   "outputs": [
    {
     "name": "stdin",
     "output_type": "stream",
     "text": [
      " Harry\n"
     ]
    },
    {
     "name": "stdout",
     "output_type": "stream",
     "text": [
      "\n",
      "Greeting: Hello, Harry!\n"
     ]
    }
   ],
   "source": [
    "# Greeting!\n",
    "# Task is writing Greeting program with Hello.\n",
    "\n",
    "greeting_name = input()\n",
    "print()\n",
    "\n",
    "def name_func(name):\n",
    "    print(\"Greeting: Hello, {}!\".format(name))\n",
    "\n",
    "name_func(greeting_name)"
   ]
  },
  {
   "cell_type": "code",
   "execution_count": null,
   "metadata": {},
   "outputs": [],
   "source": []
  },
  {
   "cell_type": "code",
   "execution_count": 21,
   "metadata": {},
   "outputs": [
    {
     "name": "stdin",
     "output_type": "stream",
     "text": [
      " 33\n"
     ]
    },
    {
     "name": "stdout",
     "output_type": "stream",
     "text": [
      "The previous num is: 32. The next num is: 34\n"
     ]
    }
   ],
   "source": [
    "# The next / The previous\n",
    "# The task shows us the next and the previous number.\n",
    "\n",
    "current_num = int(input())\n",
    "def next_previous_func(num):\n",
    "    previous_num = num - 1\n",
    "    next_num = num + 1\n",
    "    print(\"The previous num is: {}. The next num is: {}\".format(previous_num, next_num))\n",
    "next_previous_func(current_num)"
   ]
  },
  {
   "cell_type": "code",
   "execution_count": null,
   "metadata": {},
   "outputs": [],
   "source": []
  },
  {
   "cell_type": "code",
   "execution_count": 74,
   "metadata": {},
   "outputs": [
    {
     "name": "stdin",
     "output_type": "stream",
     "text": [
      " 11\n",
      " 1\n",
      " 11\n"
     ]
    },
    {
     "name": "stdout",
     "output_type": "stream",
     "text": [
      "Total amount pupils is 23, so we need 12 desks.\n"
     ]
    }
   ],
   "source": [
    "# The desks\n",
    "# The task is to define right amount of the desk which needs pupils.\n",
    "\n",
    "amount_pupils_class_1 = int(input())\n",
    "amount_pupils_class_2 = int(input())\n",
    "amount_pupils_class_3 = int(input())\n",
    "\n",
    "all_pupils = amount_pupils_class_1 + amount_pupils_class_2 + amount_pupils_class_3\n",
    "\n",
    "def desks_func(desks):\n",
    "    if desks % 2 == 0:\n",
    "        rez = int(desks / 2)\n",
    "        print(\"Total amount pupils is {:d}, so we need {:d} desks.\".format(desks, rez))\n",
    "    else:\n",
    "        rez = int(desks / 2)\n",
    "        rez += int(desks % 2)\n",
    "        print(\"Total amount pupils is {:d}, so we need {:d} desks.\".format(desks, rez))\n",
    "\n",
    "desks_func(all_pupils)        "
   ]
  },
  {
   "cell_type": "code",
   "execution_count": null,
   "metadata": {},
   "outputs": [],
   "source": []
  },
  {
   "cell_type": "code",
   "execution_count": 2,
   "metadata": {},
   "outputs": [
    {
     "name": "stdout",
     "output_type": "stream",
     "text": [
      "Enter row distance: \n"
     ]
    },
    {
     "name": "stdin",
     "output_type": "stream",
     "text": [
      " 1\n"
     ]
    },
    {
     "name": "stdout",
     "output_type": "stream",
     "text": [
      "Enter hole distance: \n"
     ]
    },
    {
     "name": "stdin",
     "output_type": "stream",
     "text": [
      " 1\n"
     ]
    },
    {
     "name": "stdout",
     "output_type": "stream",
     "text": [
      "Enter free lace length: \n"
     ]
    },
    {
     "name": "stdin",
     "output_type": "stream",
     "text": [
      " 1\n"
     ]
    },
    {
     "name": "stdout",
     "output_type": "stream",
     "text": [
      "Enter amount row holes\n"
     ]
    },
    {
     "name": "stdin",
     "output_type": "stream",
     "text": [
      " 1\n"
     ]
    },
    {
     "name": "stdout",
     "output_type": "stream",
     "text": [
      "3\n"
     ]
    }
   ],
   "source": [
    "# Laces\n",
    "# The task is defining the length of laces.\n",
    "# The 1st variant - using classic function\n",
    "\n",
    "print(\"Enter row distance: \")\n",
    "row_distance = int(input())          # a\n",
    "\n",
    "print(\"Enter hole distance: \")\n",
    "hole_distance = int(input())         # b\n",
    "\n",
    "print(\"Enter free lace length: \")\n",
    "free_lace_length = int(input())      # l\n",
    "\n",
    "print(\"Enter amount row holes\")\n",
    "amount_row_holes = int(input())      # n\n",
    "\n",
    "def lace_length_func(a, b, l, n):\n",
    "    dlina = (2*a*(n-1)) + (2*b*(n-1)) + a + 2*l\n",
    "    print(dlina)\n",
    "\n",
    "lace_length_func(row_distance, hole_distance, free_lace_length, amount_row_holes)"
   ]
  },
  {
   "cell_type": "code",
   "execution_count": null,
   "metadata": {},
   "outputs": [],
   "source": []
  },
  {
   "cell_type": "code",
   "execution_count": 1,
   "metadata": {},
   "outputs": [
    {
     "name": "stdout",
     "output_type": "stream",
     "text": [
      "Enter row distance: \n"
     ]
    },
    {
     "name": "stdin",
     "output_type": "stream",
     "text": [
      " 54\n"
     ]
    },
    {
     "name": "stdout",
     "output_type": "stream",
     "text": [
      "Enter hole distance: \n"
     ]
    },
    {
     "name": "stdin",
     "output_type": "stream",
     "text": [
      " 32\n"
     ]
    },
    {
     "name": "stdout",
     "output_type": "stream",
     "text": [
      "Enter free lace length: \n"
     ]
    },
    {
     "name": "stdin",
     "output_type": "stream",
     "text": [
      " 51\n"
     ]
    },
    {
     "name": "stdout",
     "output_type": "stream",
     "text": [
      "Enter amount row holes\n"
     ]
    },
    {
     "name": "stdin",
     "output_type": "stream",
     "text": [
      " 96\n"
     ]
    },
    {
     "data": {
      "text/plain": [
       "16496"
      ]
     },
     "execution_count": 1,
     "metadata": {},
     "output_type": "execute_result"
    }
   ],
   "source": [
    "# Laces\n",
    "# The task is defining the length of laces.\n",
    "# The 2nd variant - using lambda function\n",
    "\n",
    "print(\"Enter row distance: \")\n",
    "row_distance = int(input())          # a\n",
    "\n",
    "print(\"Enter hole distance: \")\n",
    "hole_distance = int(input())         # b\n",
    "\n",
    "print(\"Enter free lace length: \")\n",
    "free_lace_length = int(input())      # l\n",
    "\n",
    "print(\"Enter amount row holes\")\n",
    "amount_row_holes = int(input())      # n\n",
    "\n",
    "lace_length = lambda a, b, l, n: (2*a*(n-1)) + (2*b*(n-1)) + a + 2*l\n",
    "lace_length(row_distance, hole_distance, free_lace_length, amount_row_holes)"
   ]
  },
  {
   "cell_type": "code",
   "execution_count": null,
   "metadata": {},
   "outputs": [],
   "source": []
  }
 ],
 "metadata": {
  "kernelspec": {
   "display_name": "Python 3",
   "language": "python",
   "name": "python3"
  },
  "language_info": {
   "codemirror_mode": {
    "name": "ipython",
    "version": 3
   },
   "file_extension": ".py",
   "mimetype": "text/x-python",
   "name": "python",
   "nbconvert_exporter": "python",
   "pygments_lexer": "ipython3",
   "version": "3.8.6"
  }
 },
 "nbformat": 4,
 "nbformat_minor": 4
}
