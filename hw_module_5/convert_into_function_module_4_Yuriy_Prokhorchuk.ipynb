{
 "cells": [
  {
   "cell_type": "markdown",
   "metadata": {},
   "source": [
    "### 1"
   ]
  },
  {
   "cell_type": "code",
   "execution_count": 29,
   "metadata": {},
   "outputs": [],
   "source": [
    "# Use `list comprehension` for filling `only_even_arr` list.\n",
    "# Add only even number from `arr`\n",
    "\n",
    "arr = list(range(100))\n",
    "\n",
    "def only_even_func(nums):\n",
    "    only_even_arr = [i for i in nums if i % 2 == 0]\n",
    "    return only_even_arr\n"
   ]
  },
  {
   "cell_type": "code",
   "execution_count": 30,
   "metadata": {},
   "outputs": [
    {
     "data": {
      "text/plain": [
       "[0,\n",
       " 2,\n",
       " 4,\n",
       " 6,\n",
       " 8,\n",
       " 10,\n",
       " 12,\n",
       " 14,\n",
       " 16,\n",
       " 18,\n",
       " 20,\n",
       " 22,\n",
       " 24,\n",
       " 26,\n",
       " 28,\n",
       " 30,\n",
       " 32,\n",
       " 34,\n",
       " 36,\n",
       " 38,\n",
       " 40,\n",
       " 42,\n",
       " 44,\n",
       " 46,\n",
       " 48,\n",
       " 50,\n",
       " 52,\n",
       " 54,\n",
       " 56,\n",
       " 58,\n",
       " 60,\n",
       " 62,\n",
       " 64,\n",
       " 66,\n",
       " 68,\n",
       " 70,\n",
       " 72,\n",
       " 74,\n",
       " 76,\n",
       " 78,\n",
       " 80,\n",
       " 82,\n",
       " 84,\n",
       " 86,\n",
       " 88,\n",
       " 90,\n",
       " 92,\n",
       " 94,\n",
       " 96,\n",
       " 98]"
      ]
     },
     "execution_count": 30,
     "metadata": {},
     "output_type": "execute_result"
    }
   ],
   "source": [
    "only_even_func(arr)"
   ]
  },
  {
   "cell_type": "markdown",
   "metadata": {},
   "source": [
    "### 2"
   ]
  },
  {
   "cell_type": "code",
   "execution_count": 68,
   "metadata": {},
   "outputs": [],
   "source": [
    "# Display a multiplication table that shows\n",
    "# the products of all combinations of integers\n",
    "# from 1 times 1 up to and including 10 times 10\n",
    "\n",
    "ranged_list = [0, 1, 2, 3, 4, 5, 6, 7, 8, 9, 10]  # produce numbers from 0 to 10\n",
    "\n",
    "def multiplication_table_func(nums):\n",
    "    for row in nums:\n",
    "        for col in nums:\n",
    "            # some print here\n",
    "            print(\"%3d\" % (row*col), end = ' ')\n",
    "            pass\n",
    "        # and print here\n",
    "        print()"
   ]
  },
  {
   "cell_type": "code",
   "execution_count": 69,
   "metadata": {},
   "outputs": [
    {
     "name": "stdout",
     "output_type": "stream",
     "text": [
      "  0   0   0   0   0   0   0   0   0   0   0 \n",
      "  0   1   2   3   4   5   6   7   8   9  10 \n",
      "  0   2   4   6   8  10  12  14  16  18  20 \n",
      "  0   3   6   9  12  15  18  21  24  27  30 \n",
      "  0   4   8  12  16  20  24  28  32  36  40 \n",
      "  0   5  10  15  20  25  30  35  40  45  50 \n",
      "  0   6  12  18  24  30  36  42  48  54  60 \n",
      "  0   7  14  21  28  35  42  49  56  63  70 \n",
      "  0   8  16  24  32  40  48  56  64  72  80 \n",
      "  0   9  18  27  36  45  54  63  72  81  90 \n",
      "  0  10  20  30  40  50  60  70  80  90 100 \n"
     ]
    }
   ],
   "source": [
    "multiplication_table_func(ranged_list)"
   ]
  },
  {
   "cell_type": "markdown",
   "metadata": {},
   "source": [
    "### 3"
   ]
  },
  {
   "cell_type": "code",
   "execution_count": 89,
   "metadata": {},
   "outputs": [
    {
     "name": "stdout",
     "output_type": "stream",
     "text": [
      "Enter value from 10 to 100: \n"
     ]
    },
    {
     "name": "stdin",
     "output_type": "stream",
     "text": [
      " 40\n"
     ]
    },
    {
     "name": "stdout",
     "output_type": "stream",
     "text": [
      "Your num is: 40\n",
      "\n",
      "8 <= Updated\n",
      "36 <= Updated\n",
      "28\n",
      "32\n",
      "17\n",
      "9\n",
      "31\n",
      "6\n",
      "23\n",
      "13\n",
      "max: 36; update numbers 2\n"
     ]
    }
   ],
   "source": [
    "# Generate 100 random integers between 1 and 100.\n",
    "# Check each integer as it is generated to see if\n",
    "# it is larger than the maximum number encountered so far.\n",
    "# If larger => print \" <= Update\" next to the generated integer.\n",
    "# Print the max value and number of updates at the end of output\n",
    "\n",
    "import random  # use random module to generate pseudorandom value\n",
    "\n",
    "# try with less value first, then change to 100\n",
    "print(\"Enter value from 10 to 100: \")\n",
    "volume = int(input())\n",
    "print(f\"Your num is: {volume}\")\n",
    "\n",
    "arr = random.sample(range(volume),10)  # use random.sample to generate 100 numbers from 1 to 100 in one row\n",
    "\n",
    "def num_generator_func():\n",
    "    curr_max = 0                           # change this number inside `if`\n",
    "    update_numbers = 0                     # add 1 each time when get update\n",
    "\n",
    "    for i in arr:\n",
    "        if i > curr_max:                   # put here an appropriate condition\n",
    "            print(f\"{i} <= Updated\")       # print and update vars\n",
    "            curr_max = i\n",
    "            update_numbers += 1\n",
    "            pass\n",
    "        else:\n",
    "            print(i)                       # just print current number\n",
    "            pass\n",
    "    print(f\"max: {curr_max}; update numbers {update_numbers}\")\n",
    "print()\n",
    "num_generator_func()"
   ]
  },
  {
   "cell_type": "markdown",
   "metadata": {},
   "source": [
    "### 4"
   ]
  },
  {
   "cell_type": "code",
   "execution_count": 98,
   "metadata": {
    "scrolled": true
   },
   "outputs": [
    {
     "name": "stdout",
     "output_type": "stream",
     "text": [
      "11000000111001\n",
      "11000000111001\n"
     ]
    }
   ],
   "source": [
    "# Convert a decimal (base10) number to binary(base2).\n",
    "# Use the algorithm below\n",
    "\n",
    "# Let q represent the number to convert repeat\n",
    "# Set r equal to the remainder when q is divided by 2\n",
    "# Convert r to a string and add it to the beginning of result\n",
    "# Divide q by 2, discarding any remainder, and store the result back into q\n",
    "# until q is 0\n",
    "\n",
    "base10_var_1 = 12345\n",
    "base10_var_2 = 12345\n",
    "\n",
    "def convert_decimal_to_binary_func(x,y):\n",
    "    \n",
    "    base2_str_1 = \"{0:b}\".format(x)  # use to check the result\n",
    "    base2_var_2 = ''  # use this var for keeping the result\n",
    "\n",
    "    # Implement the algorithm here\n",
    "    q = y\n",
    "    while q != 0:\n",
    "        r = str(q % 2)\n",
    "        base2_var_2 = r + base2_var_2\n",
    "        q = q // 2\n",
    "    print(base2_var_2)\n",
    "    print(base2_str_1)\n",
    "\n",
    "    assert str(base2_var_2) == base2_str_1\n",
    "\n",
    "convert_decimal_to_binary_func(base10_var_1,base10_var_2)"
   ]
  },
  {
   "cell_type": "markdown",
   "metadata": {},
   "source": [
    "### 5"
   ]
  },
  {
   "cell_type": "code",
   "execution_count": 111,
   "metadata": {},
   "outputs": [
    {
     "name": "stdout",
     "output_type": "stream",
     "text": [
      "{0: 0, 2: 4, 4: 8, 6: 12, 8: 16, 10: 20, 12: 24, 14: 28, 16: 32, 18: 36, 20: 40, 22: 44, 24: 48, 26: 52, 28: 56, 30: 60, 32: 64, 34: 68, 36: 72, 38: 76, 40: 80, 42: 84, 44: 88, 46: 92, 48: 96}\n"
     ]
    }
   ],
   "source": [
    "d = {i: i * 2 for i in range(50) if i % 2 == 0}\n",
    "print(d)"
   ]
  },
  {
   "cell_type": "code",
   "execution_count": 112,
   "metadata": {},
   "outputs": [],
   "source": [
    "# Use try-except block to intercept the error and print \"no value for key {n}\" in this case\n",
    "def intercept_func():\n",
    "    for n in range(50):\n",
    "        try:\n",
    "            print(f\"the value for key '{n}' is {d[n]}\")\n",
    "        except:\n",
    "            print(f\"no value for key {n}\")"
   ]
  },
  {
   "cell_type": "code",
   "execution_count": 113,
   "metadata": {},
   "outputs": [
    {
     "name": "stdout",
     "output_type": "stream",
     "text": [
      "the value for key '0' is 0\n",
      "no value for key 1\n",
      "the value for key '2' is 4\n",
      "no value for key 3\n",
      "the value for key '4' is 8\n",
      "no value for key 5\n",
      "the value for key '6' is 12\n",
      "no value for key 7\n",
      "the value for key '8' is 16\n",
      "no value for key 9\n",
      "the value for key '10' is 20\n",
      "no value for key 11\n",
      "the value for key '12' is 24\n",
      "no value for key 13\n",
      "the value for key '14' is 28\n",
      "no value for key 15\n",
      "the value for key '16' is 32\n",
      "no value for key 17\n",
      "the value for key '18' is 36\n",
      "no value for key 19\n",
      "the value for key '20' is 40\n",
      "no value for key 21\n",
      "the value for key '22' is 44\n",
      "no value for key 23\n",
      "the value for key '24' is 48\n",
      "no value for key 25\n",
      "the value for key '26' is 52\n",
      "no value for key 27\n",
      "the value for key '28' is 56\n",
      "no value for key 29\n",
      "the value for key '30' is 60\n",
      "no value for key 31\n",
      "the value for key '32' is 64\n",
      "no value for key 33\n",
      "the value for key '34' is 68\n",
      "no value for key 35\n",
      "the value for key '36' is 72\n",
      "no value for key 37\n",
      "the value for key '38' is 76\n",
      "no value for key 39\n",
      "the value for key '40' is 80\n",
      "no value for key 41\n",
      "the value for key '42' is 84\n",
      "no value for key 43\n",
      "the value for key '44' is 88\n",
      "no value for key 45\n",
      "the value for key '46' is 92\n",
      "no value for key 47\n",
      "the value for key '48' is 96\n",
      "no value for key 49\n"
     ]
    }
   ],
   "source": [
    "intercept_func()"
   ]
  },
  {
   "cell_type": "code",
   "execution_count": null,
   "metadata": {},
   "outputs": [],
   "source": []
  }
 ],
 "metadata": {
  "kernelspec": {
   "display_name": "Python 3",
   "language": "python",
   "name": "python3"
  },
  "language_info": {
   "codemirror_mode": {
    "name": "ipython",
    "version": 3
   },
   "file_extension": ".py",
   "mimetype": "text/x-python",
   "name": "python",
   "nbconvert_exporter": "python",
   "pygments_lexer": "ipython3",
   "version": "3.8.6"
  }
 },
 "nbformat": 4,
 "nbformat_minor": 4
}
