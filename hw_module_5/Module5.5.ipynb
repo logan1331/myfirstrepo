{
 "cells": [
  {
   "cell_type": "code",
   "execution_count": 287,
   "metadata": {},
   "outputs": [
    {
     "ename": "AssertionError",
     "evalue": "",
     "output_type": "error",
     "traceback": [
      "\u001b[0;31m---------------------------------------------------------------------------\u001b[0m",
      "\u001b[0;31mAssertionError\u001b[0m                            Traceback (most recent call last)",
      "\u001b[0;32m<ipython-input-287-ced2635d56ef>\u001b[0m in \u001b[0;36m<module>\u001b[0;34m\u001b[0m\n\u001b[1;32m     41\u001b[0m \u001b[0;34m\u001b[0m\u001b[0m\n\u001b[1;32m     42\u001b[0m \u001b[0;34m\u001b[0m\u001b[0m\n\u001b[0;32m---> 43\u001b[0;31m \u001b[0mcheck_is_float\u001b[0m\u001b[0;34m(\u001b[0m\u001b[0mis_float\u001b[0m\u001b[0;34m)\u001b[0m\u001b[0;34m\u001b[0m\u001b[0;34m\u001b[0m\u001b[0m\n\u001b[0m\u001b[1;32m     44\u001b[0m \u001b[0;31m#check_is_float(is_float_with_except)\u001b[0m\u001b[0;34m\u001b[0m\u001b[0;34m\u001b[0m\u001b[0;34m\u001b[0m\u001b[0m\n",
      "\u001b[0;32m<ipython-input-287-ced2635d56ef>\u001b[0m in \u001b[0;36mcheck_is_float\u001b[0;34m(check_fun)\u001b[0m\n\u001b[1;32m     37\u001b[0m     \u001b[0;32massert\u001b[0m \u001b[0mcheck_fun\u001b[0m\u001b[0;34m(\u001b[0m\u001b[0;34m\"+23\"\u001b[0m\u001b[0;34m)\u001b[0m\u001b[0;34m\u001b[0m\u001b[0;34m\u001b[0m\u001b[0m\n\u001b[1;32m     38\u001b[0m     \u001b[0;32massert\u001b[0m \u001b[0mcheck_fun\u001b[0m\u001b[0;34m(\u001b[0m\u001b[0;34m\"-231\"\u001b[0m\u001b[0;34m)\u001b[0m\u001b[0;34m\u001b[0m\u001b[0;34m\u001b[0m\u001b[0m\n\u001b[0;32m---> 39\u001b[0;31m     \u001b[0;32massert\u001b[0m \u001b[0;32mnot\u001b[0m \u001b[0mcheck_fun\u001b[0m\u001b[0;34m(\u001b[0m\u001b[0;34m\"-23y1\"\u001b[0m\u001b[0;34m)\u001b[0m\u001b[0;34m\u001b[0m\u001b[0;34m\u001b[0m\u001b[0m\n\u001b[0m\u001b[1;32m     40\u001b[0m     \u001b[0;32massert\u001b[0m \u001b[0;32mnot\u001b[0m \u001b[0mcheck_fun\u001b[0m\u001b[0;34m(\u001b[0m\u001b[0;34m\"abc\"\u001b[0m\u001b[0;34m)\u001b[0m\u001b[0;34m\u001b[0m\u001b[0;34m\u001b[0m\u001b[0m\n\u001b[1;32m     41\u001b[0m \u001b[0;34m\u001b[0m\u001b[0m\n",
      "\u001b[0;31mAssertionError\u001b[0m: "
     ]
    }
   ],
   "source": [
    "# Implement functions that\n",
    "# - return True if the input string contains a float number\n",
    "# - return False in the other case\n",
    "\n",
    "def is_float(str_int):\n",
    "    # check with the string class provides\n",
    "    \n",
    "    # Check string whether plus or minus in the beginning string \n",
    "    if str_int[0] == \"+\" or str_int[0] == \"-\":\n",
    "        result = string_1.replace(str_int[0], \"\", 1)\n",
    "    \n",
    "    # In case if the minus or plus is then check whether point in string\n",
    "        if \".\" in result:\n",
    "            return result.replace(\".\", \"\", 1).isdigit()\n",
    "        if \".\" not in str_int:\n",
    "            return False\n",
    "    # Check string whether point is in the string without plus or minus   \n",
    "    elif \".\" in str_int:\n",
    "        return str_int.replace(\".\", \"\", 1).isdigit()\n",
    "    # Check string whether the numbers only there\n",
    "    elif str_int.isdigit():\n",
    "        return str_int.isdigit()\n",
    "    # Other false cases\n",
    "    else:\n",
    "        return False\n",
    "\n",
    "'''\n",
    "def is_float_with_except(str_int):\n",
    "    # try to convert to float\n",
    "    # and catch the exception\n",
    "    # in case of non-float string\n",
    "    pass\n",
    "'''\n",
    "\n",
    "def check_is_float(check_fun):\n",
    "    assert check_fun(\"345\")\n",
    "    assert check_fun(\"+23\")\n",
    "    assert check_fun(\"-231\")\n",
    "    assert not check_fun(\"-23y1\")\n",
    "    assert not check_fun(\"abc\")\n",
    "    \n",
    "    \n",
    "check_is_float(is_float)\n",
    "#check_is_float(is_float_with_except)"
   ]
  },
  {
   "cell_type": "code",
   "execution_count": null,
   "metadata": {},
   "outputs": [],
   "source": []
  }
 ],
 "metadata": {
  "kernelspec": {
   "display_name": "Python 3",
   "language": "python",
   "name": "python3"
  },
  "language_info": {
   "codemirror_mode": {
    "name": "ipython",
    "version": 3
   },
   "file_extension": ".py",
   "mimetype": "text/x-python",
   "name": "python",
   "nbconvert_exporter": "python",
   "pygments_lexer": "ipython3",
   "version": "3.8.6"
  }
 },
 "nbformat": 4,
 "nbformat_minor": 4
}
