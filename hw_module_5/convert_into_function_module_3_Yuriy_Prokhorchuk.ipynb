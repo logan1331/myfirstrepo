{
 "cells": [
  {
   "cell_type": "markdown",
   "metadata": {},
   "source": [
    "# Data structures"
   ]
  },
  {
   "cell_type": "markdown",
   "metadata": {},
   "source": [
    "### 1"
   ]
  },
  {
   "cell_type": "code",
   "execution_count": 26,
   "metadata": {},
   "outputs": [],
   "source": [
    "a = 12\n",
    "b = 2345"
   ]
  },
  {
   "cell_type": "code",
   "execution_count": 27,
   "metadata": {},
   "outputs": [],
   "source": [
    "# TODO:\n",
    "def division_func(a,b):\n",
    "    \n",
    "    float_a_by_b_result = a / b # use float division instead of None\n",
    "    int_a_by_b_result = int(a / b)  # use int division instead of None\n",
    "    \n",
    "    assert int_a_by_b_result == 0, \"should be 0 here\"\n",
    "    assert (float_a_by_b_result - 0.00511) < 0.00001, \"should be about 0.00511\"\n",
    "    \n",
    "    return float_a_by_b_result, int_a_by_b_result"
   ]
  },
  {
   "cell_type": "code",
   "execution_count": 28,
   "metadata": {},
   "outputs": [
    {
     "data": {
      "text/plain": [
       "(0.00511727078891258, 0)"
      ]
     },
     "execution_count": 28,
     "metadata": {},
     "output_type": "execute_result"
    }
   ],
   "source": [
    "division_func(a,b)"
   ]
  },
  {
   "cell_type": "markdown",
   "metadata": {},
   "source": [
    "### 2"
   ]
  },
  {
   "cell_type": "code",
   "execution_count": 32,
   "metadata": {},
   "outputs": [
    {
     "name": "stdout",
     "output_type": "stream",
     "text": [
      "a list with duplicatess: [0, 1, 2, 3, 4, 5, 6, 7, 8, 9, 10, 11, 12, 13, 14, 15, 16, 17, 18, 19, 20, 21, 22, 23, 24, 25, 26, 27, 28, 29, 30, 31, 32, 33, 34, 35, 36, 37, 38, 39, 40, 41, 42, 43, 44, 45, 46, 47, 48, 49, 50, 51, 52, 53, 54, 55, 56, 57, 58, 59, 60, 61, 62, 63, 64, 65, 66, 67, 68, 69, 70, 71, 72, 73, 74, 75, 76, 77, 78, 79, 80, 81, 82, 83, 84, 85, 86, 87, 88, 89, 90, 91, 92, 93, 94, 95, 96, 97, 98, 99, 0, 1, 2, 3, 4, 5, 6, 7, 8, 9, 10, 11, 12, 13, 14, 15, 16, 17, 18, 19, 20, 21, 22, 23, 24, 25, 26, 27, 28, 29, 30, 31, 32, 33, 34, 35, 36, 37, 38, 39, 40, 41, 42, 43, 44, 45, 46, 47, 48, 49]\n"
     ]
    }
   ],
   "source": [
    "ordinary_list = list(range(100)) + list(range(50))\n",
    "print(f\"a list with duplicatess: {ordinary_list}\")"
   ]
  },
  {
   "cell_type": "code",
   "execution_count": 35,
   "metadata": {},
   "outputs": [],
   "source": [
    "def unique_func(x):\n",
    "    unique_list = [] # create a new list with only unique items\n",
    "    for i in set(x):\n",
    "        unique_list.append(i)\n",
    "    assert unique_list == list(range(100)), \"should be a list with only unique elements\"\n",
    "    return unique_list"
   ]
  },
  {
   "cell_type": "code",
   "execution_count": 36,
   "metadata": {},
   "outputs": [
    {
     "data": {
      "text/plain": [
       "[0,\n",
       " 1,\n",
       " 2,\n",
       " 3,\n",
       " 4,\n",
       " 5,\n",
       " 6,\n",
       " 7,\n",
       " 8,\n",
       " 9,\n",
       " 10,\n",
       " 11,\n",
       " 12,\n",
       " 13,\n",
       " 14,\n",
       " 15,\n",
       " 16,\n",
       " 17,\n",
       " 18,\n",
       " 19,\n",
       " 20,\n",
       " 21,\n",
       " 22,\n",
       " 23,\n",
       " 24,\n",
       " 25,\n",
       " 26,\n",
       " 27,\n",
       " 28,\n",
       " 29,\n",
       " 30,\n",
       " 31,\n",
       " 32,\n",
       " 33,\n",
       " 34,\n",
       " 35,\n",
       " 36,\n",
       " 37,\n",
       " 38,\n",
       " 39,\n",
       " 40,\n",
       " 41,\n",
       " 42,\n",
       " 43,\n",
       " 44,\n",
       " 45,\n",
       " 46,\n",
       " 47,\n",
       " 48,\n",
       " 49,\n",
       " 50,\n",
       " 51,\n",
       " 52,\n",
       " 53,\n",
       " 54,\n",
       " 55,\n",
       " 56,\n",
       " 57,\n",
       " 58,\n",
       " 59,\n",
       " 60,\n",
       " 61,\n",
       " 62,\n",
       " 63,\n",
       " 64,\n",
       " 65,\n",
       " 66,\n",
       " 67,\n",
       " 68,\n",
       " 69,\n",
       " 70,\n",
       " 71,\n",
       " 72,\n",
       " 73,\n",
       " 74,\n",
       " 75,\n",
       " 76,\n",
       " 77,\n",
       " 78,\n",
       " 79,\n",
       " 80,\n",
       " 81,\n",
       " 82,\n",
       " 83,\n",
       " 84,\n",
       " 85,\n",
       " 86,\n",
       " 87,\n",
       " 88,\n",
       " 89,\n",
       " 90,\n",
       " 91,\n",
       " 92,\n",
       " 93,\n",
       " 94,\n",
       " 95,\n",
       " 96,\n",
       " 97,\n",
       " 98,\n",
       " 99]"
      ]
     },
     "execution_count": 36,
     "metadata": {},
     "output_type": "execute_result"
    }
   ],
   "source": [
    "unique_func(ordinary_list)"
   ]
  },
  {
   "cell_type": "markdown",
   "metadata": {},
   "source": [
    "### 3"
   ]
  },
  {
   "cell_type": "code",
   "execution_count": 48,
   "metadata": {},
   "outputs": [],
   "source": [
    "keys = [\"a\", \"b\", \"c\", 4, 5.0]\n",
    "values = [1, 2, 3, \"4\", 5.0]"
   ]
  },
  {
   "cell_type": "code",
   "execution_count": 49,
   "metadata": {},
   "outputs": [],
   "source": [
    "# make a dict with keys and values from the list above\n",
    "def list_to_dict_func(a,b):\n",
    "    c = dict(zip(a,b))\n",
    "    assert c == {\"a\": 1, \"b\": 2, \"c\": 3, 4: \"4\", 5.0: 5.0}\n",
    "    return c"
   ]
  },
  {
   "cell_type": "code",
   "execution_count": 50,
   "metadata": {},
   "outputs": [
    {
     "data": {
      "text/plain": [
       "{'a': 1, 'b': 2, 'c': 3, 4: '4', 5.0: 5.0}"
      ]
     },
     "execution_count": 50,
     "metadata": {},
     "output_type": "execute_result"
    }
   ],
   "source": [
    "list_to_dict_func(keys,values)"
   ]
  },
  {
   "cell_type": "markdown",
   "metadata": {},
   "source": [
    "### 4"
   ]
  },
  {
   "cell_type": "code",
   "execution_count": 56,
   "metadata": {},
   "outputs": [],
   "source": [
    "a = [1, 2, 3]\n",
    "a = tuple(a)"
   ]
  },
  {
   "cell_type": "code",
   "execution_count": 57,
   "metadata": {},
   "outputs": [],
   "source": [
    "def tuple_func(x):\n",
    "    try:\n",
    "        x[0] = 1\n",
    "    except TypeError as e:\n",
    "        print(\"Yeah, you can't change items of this data structure\")\n",
    "    else:\n",
    "        assert False, \"should be an error here\""
   ]
  },
  {
   "cell_type": "code",
   "execution_count": 58,
   "metadata": {},
   "outputs": [
    {
     "name": "stdout",
     "output_type": "stream",
     "text": [
      "Yeah, you can't change items of this data structure\n"
     ]
    }
   ],
   "source": [
    "tuple_func(a)"
   ]
  },
  {
   "cell_type": "markdown",
   "metadata": {},
   "source": [
    "# Copy/deepcopy"
   ]
  },
  {
   "cell_type": "code",
   "execution_count": 163,
   "metadata": {},
   "outputs": [],
   "source": [
    "import copy\n",
    "\n",
    "original = {\"list\": [1, 2, 3, 4, 5], \"dict\": {\"a\": 1, \"b\": 2, \"c\": 3, \"inner_list\": []}, \"set\": {1, 2, 3}}\n",
    "def shellow_func():\n",
    "    # assign it to the new var\n",
    "    shallow_copied = original\n",
    "\n",
    "    # and add a new item to the list\n",
    "    shallow_copied[\"list\"].append(123)\n",
    "\n",
    "    # it change the original as well\n",
    "    print(original)\n",
    "    print(f\"ID of original is: {id(original)}, ID of shallow_copied: {id(shallow_copied)}\")\n",
    "\n",
    "def ref_copy_func():\n",
    "    ref_copied = copy.copy(original) #copy.deepcopy(original)  # copy here instead of None\n",
    "    original[\"set\"] = {}\n",
    "    assert ref_copied[\"set\"] == {1, 2, 3}\n",
    "    print(ref_copied)\n",
    "    print(f\"ID of original is: {id(original)}, ID of shallow_copied: {id(ref_copied)}\")\n",
    "\n",
    "\n",
    "def deep_copy_func():\n",
    "    deep_ref_copied = copy.deepcopy(original)  # deep copy here instead of None\n",
    "    original[\"dict\"][\"inner_list\"].append(123)\n",
    "    assert deep_ref_copied[\"dict\"][\"inner_list\"] == []\n",
    "    print(deep_ref_copied)\n",
    "    print(f\"ID of original is: {id(original)}, ID of shallow_copied: {id(deep_ref_copied)}\")\n"
   ]
  },
  {
   "cell_type": "code",
   "execution_count": 164,
   "metadata": {},
   "outputs": [
    {
     "name": "stdout",
     "output_type": "stream",
     "text": [
      "{'list': [1, 2, 3, 4, 5, 123], 'dict': {'a': 1, 'b': 2, 'c': 3, 'inner_list': []}, 'set': {1, 2, 3}}\n",
      "ID of original is: 4396445312, ID of shallow_copied: 4396445312\n"
     ]
    }
   ],
   "source": [
    "shellow_func()"
   ]
  },
  {
   "cell_type": "code",
   "execution_count": 165,
   "metadata": {},
   "outputs": [
    {
     "name": "stdout",
     "output_type": "stream",
     "text": [
      "{'list': [1, 2, 3, 4, 5, 123], 'dict': {'a': 1, 'b': 2, 'c': 3, 'inner_list': []}, 'set': {1, 2, 3}}\n",
      "ID of original is: 4396445312, ID of shallow_copied: 4396520704\n"
     ]
    }
   ],
   "source": [
    "ref_copy_func()"
   ]
  },
  {
   "cell_type": "code",
   "execution_count": 166,
   "metadata": {},
   "outputs": [
    {
     "name": "stdout",
     "output_type": "stream",
     "text": [
      "{'list': [1, 2, 3, 4, 5, 123], 'dict': {'a': 1, 'b': 2, 'c': 3, 'inner_list': []}, 'set': {}}\n",
      "ID of original is: 4396445312, ID of shallow_copied: 4396521344\n"
     ]
    }
   ],
   "source": [
    "deep_copy_func()"
   ]
  },
  {
   "cell_type": "markdown",
   "metadata": {},
   "source": []
  },
  {
   "cell_type": "code",
   "execution_count": null,
   "metadata": {},
   "outputs": [],
   "source": []
  }
 ],
 "metadata": {
  "kernelspec": {
   "display_name": "Python 3",
   "language": "python",
   "name": "python3"
  },
  "language_info": {
   "codemirror_mode": {
    "name": "ipython",
    "version": 3
   },
   "file_extension": ".py",
   "mimetype": "text/x-python",
   "name": "python",
   "nbconvert_exporter": "python",
   "pygments_lexer": "ipython3",
   "version": "3.8.6"
  }
 },
 "nbformat": 4,
 "nbformat_minor": 4
}
