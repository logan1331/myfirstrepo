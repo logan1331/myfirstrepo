{
 "cells": [
  {
   "cell_type": "code",
   "execution_count": 1,
   "metadata": {},
   "outputs": [],
   "source": [
    "# Implement functions that\n",
    "# - return True if the input string contains a float number\n",
    "# - return False in the other case\n",
    "\n",
    "def is_float(str_int):\n",
    "    # check with the string class provides\n",
    "    #res = str_int.replace('.', '', 1).isdigit()\n",
    "    if str_int.isdigit():\n",
    "        return True\n",
    "    elif str_int[0] == \"+\":\n",
    "        temp_str = str_int.replace(\"+\", \"\", 1).isdigit()\n",
    "        return temp_str\n",
    "    elif str_int[0] == \"-\":\n",
    "        temp_str = str_int.replace(\"-\", \"\", 1).isdigit()\n",
    "        return temp_str\n",
    "    else:\n",
    "        return False\n",
    "    \n",
    "def is_float_with_except(str_int):\n",
    "    # try to convert to float\n",
    "    # and catch the exception\n",
    "    # in case of non-float string\n",
    "    try:\n",
    "        temp_str = float(str_int)\n",
    "        return temp_str\n",
    "    except:\n",
    "        return False\n",
    "\n",
    "\n",
    "def check_is_float(check_fun):\n",
    "    assert check_fun(\"345\")\n",
    "    assert check_fun(\"+23\")\n",
    "    assert check_fun(\"-231\")\n",
    "    assert not check_fun(\"-23y1\")\n",
    "    assert not check_fun(\"abc\")\n",
    "    \n",
    "    \n",
    "check_is_float(is_float)\n",
    "check_is_float(is_float_with_except)"
   ]
  },
  {
   "cell_type": "code",
   "execution_count": null,
   "metadata": {},
   "outputs": [],
   "source": []
  }
 ],
 "metadata": {
  "kernelspec": {
   "display_name": "Python 3",
   "language": "python",
   "name": "python3"
  },
  "language_info": {
   "codemirror_mode": {
    "name": "ipython",
    "version": 3
   },
   "file_extension": ".py",
   "mimetype": "text/x-python",
   "name": "python",
   "nbconvert_exporter": "python",
   "pygments_lexer": "ipython3",
   "version": "3.8.6"
  }
 },
 "nbformat": 4,
 "nbformat_minor": 4
}
