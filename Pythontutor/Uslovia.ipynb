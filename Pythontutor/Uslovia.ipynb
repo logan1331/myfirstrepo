{
 "cells": [
  {
   "cell_type": "code",
   "execution_count": 15,
   "metadata": {},
   "outputs": [
    {
     "name": "stdout",
     "output_type": "stream",
     "text": [
      "Enter the first number: \n"
     ]
    },
    {
     "name": "stdin",
     "output_type": "stream",
     "text": [
      " 12\n"
     ]
    },
    {
     "name": "stdout",
     "output_type": "stream",
     "text": [
      "Enter the second number: \n"
     ]
    },
    {
     "name": "stdin",
     "output_type": "stream",
     "text": [
      " 21\n"
     ]
    },
    {
     "name": "stdout",
     "output_type": "stream",
     "text": [
      "Min number is: 12\n"
     ]
    }
   ],
   "source": [
    "# Min of two numbers\n",
    "# The task is to display min from two numbers.\n",
    "print(\"Enter the first number: \")\n",
    "num_1 = int(input())\n",
    "print(\"Enter the second number: \")\n",
    "num_2 = int(input())\n",
    "\n",
    "def min_func(a, b):\n",
    "    if a < b:\n",
    "        print(\"Min number is: {}\".format(a))\n",
    "    elif b < a:\n",
    "        print(\"Min number is: {}\".format(b))\n",
    "    else:\n",
    "        print(\"The numbers equal each other\")\n",
    "\n",
    "min_func(num_1, num_2)"
   ]
  },
  {
   "cell_type": "code",
   "execution_count": null,
   "metadata": {},
   "outputs": [],
   "source": []
  },
  {
   "cell_type": "code",
   "execution_count": 26,
   "metadata": {},
   "outputs": [
    {
     "name": "stdout",
     "output_type": "stream",
     "text": [
      "Enter the number: \n"
     ]
    },
    {
     "name": "stdin",
     "output_type": "stream",
     "text": [
      " 0\n"
     ]
    },
    {
     "name": "stdout",
     "output_type": "stream",
     "text": [
      "The function sign(0) = 0\n"
     ]
    }
   ],
   "source": [
    "# Sign of number\n",
    "# The task is display number using math function sign(x).\n",
    "\n",
    "print(\"Enter the number: \")\n",
    "number = int(input())\n",
    "\n",
    "def sign(x):\n",
    "    if x > 0:\n",
    "        print(\"The function sign({}) = 1\".format(x))\n",
    "    elif x < 0:\n",
    "        print(\"The function sign({}) = -1\".format(x))\n",
    "    else:\n",
    "        print(\"The function sign({}) = 0\".format(x))\n",
    "sign(number)"
   ]
  },
  {
   "cell_type": "code",
   "execution_count": null,
   "metadata": {},
   "outputs": [],
   "source": []
  },
  {
   "cell_type": "code",
   "execution_count": 30,
   "metadata": {},
   "outputs": [
    {
     "name": "stdout",
     "output_type": "stream",
     "text": [
      "Print the 1st number: \n"
     ]
    },
    {
     "name": "stdin",
     "output_type": "stream",
     "text": [
      " 1\n"
     ]
    },
    {
     "name": "stdout",
     "output_type": "stream",
     "text": [
      "Print the 2nd number: \n"
     ]
    },
    {
     "name": "stdin",
     "output_type": "stream",
     "text": [
      " 2\n"
     ]
    },
    {
     "name": "stdout",
     "output_type": "stream",
     "text": [
      "Print the 3rd number: \n"
     ]
    },
    {
     "name": "stdin",
     "output_type": "stream",
     "text": [
      " 1\n"
     ]
    },
    {
     "name": "stdout",
     "output_type": "stream",
     "text": [
      "Print the 4th number: \n"
     ]
    },
    {
     "name": "stdin",
     "output_type": "stream",
     "text": [
      " 1\n"
     ]
    },
    {
     "name": "stdout",
     "output_type": "stream",
     "text": [
      "NO, cells are colored in different color\n"
     ]
    }
   ],
   "source": [
    "# Chess board\n",
    "# One color - Yes, diferent color - No\n",
    "\n",
    "print(\"Print the 1st number: \")\n",
    "rand_num_1 = int(input())\n",
    "\n",
    "print(\"Print the 2nd number: \")\n",
    "rand_num_2 = int(input())\n",
    "\n",
    "print(\"Print the 3rd number: \")\n",
    "rand_num_3 = int(input())\n",
    "\n",
    "print(\"Print the 4th number: \")\n",
    "rand_num_4 = int(input())\n",
    "\n",
    "if (rand_num_1+rand_num_2) % 2 == 0 and (rand_num_3+rand_num_4) % 2 == 0:\n",
    "    print(\"YES, cells are colored in one color\")\n",
    "elif (rand_num_1+rand_num_2) % 2 != 0 and (rand_num_3+rand_num_4) % 2 != 0:\n",
    "    print(\"YES, cells are colored in one color\")\n",
    "else:\n",
    "    print(\"NO, cells are colored in different color\")"
   ]
  },
  {
   "cell_type": "code",
   "execution_count": null,
   "metadata": {},
   "outputs": [],
   "source": []
  },
  {
   "cell_type": "code",
   "execution_count": 86,
   "metadata": {},
   "outputs": [
    {
     "name": "stdout",
     "output_type": "stream",
     "text": [
      "Enter the current year: \n"
     ]
    },
    {
     "name": "stdin",
     "output_type": "stream",
     "text": [
      " 2021\n"
     ]
    },
    {
     "name": "stdout",
     "output_type": "stream",
     "text": [
      "The 2021 year is not leap: NO\n"
     ]
    }
   ],
   "source": [
    "# Leap year\n",
    "# The task is to define whether the year leap or not.\n",
    "\n",
    "print(\"Enter the current year: \")\n",
    "year = int(input())\n",
    "\n",
    "def leap_year(unknown_year):\n",
    "    if (unknown_year % 4 == 0) and (unknown_year % 100 != 0) or (unknown_year % 400 == 0):\n",
    "        print(\"The {} year is leap: YES\".format(unknown_year))\n",
    "    else:\n",
    "        print(\"The {} year is not leap: NO\".format(unknown_year))\n",
    "\n",
    "leap_year(year)"
   ]
  },
  {
   "cell_type": "code",
   "execution_count": null,
   "metadata": {},
   "outputs": [],
   "source": []
  },
  {
   "cell_type": "code",
   "execution_count": 111,
   "metadata": {},
   "outputs": [
    {
     "name": "stdout",
     "output_type": "stream",
     "text": [
      "Enter the first number: \n"
     ]
    },
    {
     "name": "stdin",
     "output_type": "stream",
     "text": [
      " -3\n"
     ]
    },
    {
     "name": "stdout",
     "output_type": "stream",
     "text": [
      "Enter the second number: \n"
     ]
    },
    {
     "name": "stdin",
     "output_type": "stream",
     "text": [
      " -33\n"
     ]
    },
    {
     "name": "stdout",
     "output_type": "stream",
     "text": [
      "Enter the third number: \n"
     ]
    },
    {
     "name": "stdin",
     "output_type": "stream",
     "text": [
      " -5\n"
     ]
    },
    {
     "name": "stdout",
     "output_type": "stream",
     "text": [
      "Min number is: -33\n"
     ]
    }
   ],
   "source": [
    "# Min of three numbers\n",
    "# The task to find the min from three numbers.\n",
    "\n",
    "print(\"Enter the first number: \")\n",
    "num_1 = int(input())\n",
    "\n",
    "print(\"Enter the second number: \")\n",
    "num_2 = int(input())\n",
    "\n",
    "print(\"Enter the third number: \")\n",
    "num_3 = int(input())\n",
    "\n",
    "def min_of_three_func(a, b, c):\n",
    "    if a < b and a < c:\n",
    "        print(\"Min number is: {}\".format(a))\n",
    "    elif b < a and b < c:\n",
    "        print(\"Min number is: {}\".format(b))\n",
    "    else:\n",
    "        print(\"Min number is: {}\".format(c))\n",
    "\n",
    "min_of_three_func(num_1, num_2, num_3)"
   ]
  },
  {
   "cell_type": "code",
   "execution_count": null,
   "metadata": {},
   "outputs": [],
   "source": []
  },
  {
   "cell_type": "code",
   "execution_count": 321,
   "metadata": {},
   "outputs": [
    {
     "name": "stdout",
     "output_type": "stream",
     "text": [
      "Enter the first number: \n"
     ]
    },
    {
     "name": "stdin",
     "output_type": "stream",
     "text": [
      " 1\n"
     ]
    },
    {
     "name": "stdout",
     "output_type": "stream",
     "text": [
      "Enter the second number: \n"
     ]
    },
    {
     "name": "stdin",
     "output_type": "stream",
     "text": [
      " 1\n"
     ]
    },
    {
     "name": "stdout",
     "output_type": "stream",
     "text": [
      "Enter the third number: \n"
     ]
    },
    {
     "name": "stdin",
     "output_type": "stream",
     "text": [
      " 1\n"
     ]
    },
    {
     "name": "stdout",
     "output_type": "stream",
     "text": [
      "3 equal numbers\n"
     ]
    }
   ],
   "source": [
    "# Equal numbers\n",
    "# The task is count how meny equal numbers.\n",
    "\n",
    "print(\"Enter the first number: \")\n",
    "num_1 = int(input())\n",
    "\n",
    "print(\"Enter the second number: \")\n",
    "num_2 = int(input())\n",
    "\n",
    "print(\"Enter the third number: \")\n",
    "num_3 = int(input())\n",
    "\n",
    "def equal_numbers_func(a, b, c):\n",
    "    if a == b and a == c:\n",
    "        print(\"3 equal numbers\")\n",
    "    elif a == b or a == c or c == b:\n",
    "        print(\"2 equal numbers\")\n",
    "    else:\n",
    "        print(\"No equal numbers\")\n",
    "\n",
    "equal_numbers_func(num_1, num_2, num_3)"
   ]
  },
  {
   "cell_type": "code",
   "execution_count": null,
   "metadata": {},
   "outputs": [],
   "source": []
  },
  {
   "cell_type": "code",
   "execution_count": 135,
   "metadata": {},
   "outputs": [
    {
     "name": "stdout",
     "output_type": "stream",
     "text": [
      "Print the 1st number: \n"
     ]
    },
    {
     "name": "stdin",
     "output_type": "stream",
     "text": [
      " 8\n"
     ]
    },
    {
     "name": "stdout",
     "output_type": "stream",
     "text": [
      "Print the 2nd number: \n"
     ]
    },
    {
     "name": "stdin",
     "output_type": "stream",
     "text": [
      " 1\n"
     ]
    },
    {
     "name": "stdout",
     "output_type": "stream",
     "text": [
      "Print the 3rd number: \n"
     ]
    },
    {
     "name": "stdin",
     "output_type": "stream",
     "text": [
      " 1\n"
     ]
    },
    {
     "name": "stdout",
     "output_type": "stream",
     "text": [
      "Print the 4th number: \n"
     ]
    },
    {
     "name": "stdin",
     "output_type": "stream",
     "text": [
      " 1\n"
     ]
    },
    {
     "name": "stdout",
     "output_type": "stream",
     "text": [
      "Yes, rook will strike!\n"
     ]
    }
   ],
   "source": [
    "# Stroke rook\n",
    "# The task is to define whether the rook strike or not.\n",
    "\n",
    "print(\"Print the 1st number: \")\n",
    "num_1 = int(input())\n",
    "\n",
    "print(\"Print the 2nd number: \")\n",
    "num_2 = int(input())\n",
    "\n",
    "print(\"Print the 3rd number: \")\n",
    "num_3 = int(input())\n",
    "\n",
    "print(\"Print the 4th number: \")\n",
    "num_4 = int(input())\n",
    "\n",
    "def play_rook(a, b, c, d):\n",
    "    if a == b == d or b != a == c or a == b == c or a != b == d:\n",
    "        print(\"Yes, rook will strike!\")\n",
    "    else:\n",
    "        print(\"No, rook will not strike.\")\n",
    "\n",
    "play_rook(num_1, num_2, num_3, num_4)"
   ]
  },
  {
   "cell_type": "code",
   "execution_count": null,
   "metadata": {},
   "outputs": [],
   "source": []
  },
  {
   "cell_type": "code",
   "execution_count": 399,
   "metadata": {},
   "outputs": [
    {
     "name": "stdout",
     "output_type": "stream",
     "text": [
      "Print the 1st number: \n"
     ]
    },
    {
     "name": "stdin",
     "output_type": "stream",
     "text": [
      " 4\n"
     ]
    },
    {
     "name": "stdout",
     "output_type": "stream",
     "text": [
      "Print the 2nd number: \n"
     ]
    },
    {
     "name": "stdin",
     "output_type": "stream",
     "text": [
      " 3\n"
     ]
    },
    {
     "name": "stdout",
     "output_type": "stream",
     "text": [
      "Print the 3rd number: \n"
     ]
    },
    {
     "name": "stdin",
     "output_type": "stream",
     "text": [
      " 2\n"
     ]
    },
    {
     "name": "stdout",
     "output_type": "stream",
     "text": [
      "Print the 4th number: \n"
     ]
    },
    {
     "name": "stdin",
     "output_type": "stream",
     "text": [
      " 2\n"
     ]
    },
    {
     "name": "stdout",
     "output_type": "stream",
     "text": [
      "No, ROOK will not STRIKE.\n"
     ]
    }
   ],
   "source": [
    "# King Stroke\n",
    "# The task is to define whether the King strike or not.\n",
    "\n",
    "print(\"Print the 1st number: \")\n",
    "num_1 = int(input())\n",
    "\n",
    "print(\"Print the 2nd number: \")\n",
    "num_2 = int(input())\n",
    "\n",
    "print(\"Print the 3rd number: \")\n",
    "num_3 = int(input())\n",
    "\n",
    "print(\"Print the 4th number: \")\n",
    "num_4 = int(input())\n",
    "\n",
    "def play_king(a, b, c, d):\n",
    "      \n",
    "    if a==c-1 and b==d+1 or \\\n",
    "       a==c+1 and b==d-1 or \\\n",
    "       a==c+1 and b==d+1 or \\\n",
    "       a==c-1 and b==d-1 or \\\n",
    "       a==c and b==d+1 or \\\n",
    "       a==c-1 and b==d or \\\n",
    "       a==c and b==d-1 or \\\n",
    "       a==b and a==c+1 and b==d:\n",
    "        print(\"Yes, ROOK will STRIKE!\")\n",
    "    else:\n",
    "        print(\"No, ROOK will not STRIKE.\")\n",
    "\n",
    "play_king(num_1, num_2, num_3, num_4)"
   ]
  },
  {
   "cell_type": "code",
   "execution_count": null,
   "metadata": {},
   "outputs": [],
   "source": [
    " "
   ]
  },
  {
   "cell_type": "code",
   "execution_count": 521,
   "metadata": {},
   "outputs": [
    {
     "name": "stdout",
     "output_type": "stream",
     "text": [
      "Print the 1st number: \n"
     ]
    },
    {
     "name": "stdin",
     "output_type": "stream",
     "text": [
      " 8\n"
     ]
    },
    {
     "name": "stdout",
     "output_type": "stream",
     "text": [
      "Print the 2nd number: \n"
     ]
    },
    {
     "name": "stdin",
     "output_type": "stream",
     "text": [
      " 7\n"
     ]
    },
    {
     "name": "stdout",
     "output_type": "stream",
     "text": [
      "Print the 3rd number: \n"
     ]
    },
    {
     "name": "stdin",
     "output_type": "stream",
     "text": [
      " 7\n"
     ]
    },
    {
     "name": "stdout",
     "output_type": "stream",
     "text": [
      "Print the 4th number: \n"
     ]
    },
    {
     "name": "stdin",
     "output_type": "stream",
     "text": [
      " 6\n"
     ]
    },
    {
     "name": "stdout",
     "output_type": "stream",
     "text": [
      "Yes, ELEPHANT will STRIKE!\n"
     ]
    }
   ],
   "source": [
    "# Elephant stroke\n",
    "# The task is to define whether the elephant strike or not.\n",
    "\n",
    "print(\"Print the 1st number: \")\n",
    "num_1 = int(input())\n",
    "\n",
    "print(\"Print the 2nd number: \")\n",
    "num_2 = int(input())\n",
    "\n",
    "print(\"Print the 3rd number: \")\n",
    "num_3 = int(input())\n",
    "\n",
    "print(\"Print the 4th number: \")\n",
    "num_4 = int(input())\n",
    "\n",
    "def play_elephant(a, b, c, d):\n",
    "\n",
    "    if a+b==c+d or a==b and c==d or c-a==d-b:\n",
    "        print(\"Yes, ELEPHANT will STRIKE!\")\n",
    "    else:\n",
    "        print(\"No, ELEPHANT will not STRIKE.\")\n",
    "\n",
    "play_elephant(num_1, num_2, num_3, num_4)"
   ]
  },
  {
   "cell_type": "code",
   "execution_count": null,
   "metadata": {},
   "outputs": [],
   "source": []
  },
  {
   "cell_type": "code",
   "execution_count": 557,
   "metadata": {},
   "outputs": [
    {
     "name": "stdout",
     "output_type": "stream",
     "text": [
      "Print the 1st number: \n"
     ]
    },
    {
     "name": "stdin",
     "output_type": "stream",
     "text": [
      " 4\n"
     ]
    },
    {
     "name": "stdout",
     "output_type": "stream",
     "text": [
      "Print the 2nd number: \n"
     ]
    },
    {
     "name": "stdin",
     "output_type": "stream",
     "text": [
      " 5\n"
     ]
    },
    {
     "name": "stdout",
     "output_type": "stream",
     "text": [
      "Print the 3rd number: \n"
     ]
    },
    {
     "name": "stdin",
     "output_type": "stream",
     "text": [
      " 6\n"
     ]
    },
    {
     "name": "stdout",
     "output_type": "stream",
     "text": [
      "Print the 4th number: \n"
     ]
    },
    {
     "name": "stdin",
     "output_type": "stream",
     "text": [
      " 7\n"
     ]
    },
    {
     "name": "stdout",
     "output_type": "stream",
     "text": [
      "Yes, QUEEN will STRIKE!\n"
     ]
    }
   ],
   "source": [
    "# Queen's move\n",
    "# The task is to define whether the Queen strike or not.\n",
    "\n",
    "print(\"Print the 1st number: \")\n",
    "num_1 = int(input())\n",
    "\n",
    "print(\"Print the 2nd number: \")\n",
    "num_2 = int(input())\n",
    "\n",
    "print(\"Print the 3rd number: \")\n",
    "num_3 = int(input())\n",
    "\n",
    "print(\"Print the 4th number: \")\n",
    "num_4 = int(input())\n",
    "\n",
    "def play_queen(a, b, c, d):\n",
    "    if a==b==d or b!=a==c or a==b==c or a!=b==d or \\\n",
    "    a+b==c+d or a==b and c==d or c-a==d-b:\n",
    "        print(\"Yes, QUEEN will STRIKE!\")\n",
    "    else:\n",
    "        print(\"No, QUEEN will not STRIKE.\")\n",
    "play_queen(num_1, num_2, num_3, num_4)"
   ]
  },
  {
   "cell_type": "code",
   "execution_count": null,
   "metadata": {},
   "outputs": [],
   "source": []
  },
  {
   "cell_type": "code",
   "execution_count": 594,
   "metadata": {},
   "outputs": [
    {
     "name": "stdout",
     "output_type": "stream",
     "text": [
      "Print the 1st number: \n"
     ]
    },
    {
     "name": "stdin",
     "output_type": "stream",
     "text": [
      " 6\n"
     ]
    },
    {
     "name": "stdout",
     "output_type": "stream",
     "text": [
      "Print the 2nd number: \n"
     ]
    },
    {
     "name": "stdin",
     "output_type": "stream",
     "text": [
      " 2\n"
     ]
    },
    {
     "name": "stdout",
     "output_type": "stream",
     "text": [
      "Print the 3rd number: \n"
     ]
    },
    {
     "name": "stdin",
     "output_type": "stream",
     "text": [
      " 8\n"
     ]
    },
    {
     "name": "stdout",
     "output_type": "stream",
     "text": [
      "Print the 4th number: \n"
     ]
    },
    {
     "name": "stdin",
     "output_type": "stream",
     "text": [
      " 3\n"
     ]
    },
    {
     "name": "stdout",
     "output_type": "stream",
     "text": [
      "Yes, HORSE will STRIKE!\n"
     ]
    }
   ],
   "source": [
    "# Horse move\n",
    "# The task is to define whether the Horse strike or not.\n",
    "\n",
    "print(\"Print the 1st number: \")\n",
    "num_1 = int(input())\n",
    "\n",
    "print(\"Print the 2nd number: \")\n",
    "num_2 = int(input())\n",
    "\n",
    "print(\"Print the 3rd number: \")\n",
    "num_3 = int(input())\n",
    "\n",
    "print(\"Print the 4th number: \")\n",
    "num_4 = int(input())\n",
    "\n",
    "def play_horse(a, b, c, d):\n",
    "    if c-a==2 and b-d==1 or c-a==1 and b-d==2 or \\\n",
    "       a-c==1 and b-d==2 or a-c==2 and b-d==1 or \\\n",
    "       a-c==2 and d-b==1 or a-c==1 and d-b==2 or \\\n",
    "       c-a==1 and d-b==2 or c-a==2 and d-b==1:\n",
    "        print(\"Yes, HORSE will STRIKE!\")\n",
    "    else:\n",
    "        print(\"No, HORSE will not STRIKE.\")\n",
    "play_horse(num_1, num_2, num_3, num_4)"
   ]
  },
  {
   "cell_type": "markdown",
   "metadata": {},
   "source": []
  },
  {
   "cell_type": "code",
   "execution_count": 729,
   "metadata": {},
   "outputs": [
    {
     "name": "stdout",
     "output_type": "stream",
     "text": [
      "Define the length of chocolate: \n"
     ]
    },
    {
     "name": "stdin",
     "output_type": "stream",
     "text": [
      " 5\n"
     ]
    },
    {
     "name": "stdout",
     "output_type": "stream",
     "text": [
      "Define the width of chocolate: \n"
     ]
    },
    {
     "name": "stdin",
     "output_type": "stream",
     "text": [
      " 12\n"
     ]
    },
    {
     "name": "stdout",
     "output_type": "stream",
     "text": [
      "Breaking length: \n"
     ]
    },
    {
     "name": "stdin",
     "output_type": "stream",
     "text": [
      " 100\n"
     ]
    },
    {
     "name": "stdout",
     "output_type": "stream",
     "text": [
      "NO, the chocolate hasn't broken.\n"
     ]
    }
   ],
   "source": [
    "## Chocolate bar\n",
    "# The task is to define whether the chocolate bar divided in two section or not.\n",
    "\n",
    "print(\"Define the length of chocolate: \")\n",
    "num_1_n = int(input())\n",
    "\n",
    "print(\"Define the width of chocolate: \")\n",
    "num_2_m = int(input())\n",
    "\n",
    "print(\"Breaking length: \")\n",
    "num_3_k = int(input())\n",
    "\n",
    "def break_chocolate(n, m, k):\n",
    "    if k<n*m and k%m==0 or k<n*m and k%n==0:\n",
    "        print(\"YES, the chocolate has broken.\")\n",
    "    else:\n",
    "        print(\"NO, the chocolate hasn't broken.\")\n",
    "break_chocolate(num_1_n, num_2_m, num_3_k)"
   ]
  },
  {
   "cell_type": "code",
   "execution_count": null,
   "metadata": {},
   "outputs": [],
   "source": []
  }
 ],
 "metadata": {
  "kernelspec": {
   "display_name": "Python 3",
   "language": "python",
   "name": "python3"
  },
  "language_info": {
   "codemirror_mode": {
    "name": "ipython",
    "version": 3
   },
   "file_extension": ".py",
   "mimetype": "text/x-python",
   "name": "python",
   "nbconvert_exporter": "python",
   "pygments_lexer": "ipython3",
   "version": "3.8.6"
  }
 },
 "nbformat": 4,
 "nbformat_minor": 4
}
