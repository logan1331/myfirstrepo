{
 "cells": [
  {
   "cell_type": "code",
   "execution_count": 7,
   "metadata": {},
   "outputs": [],
   "source": [
    "# Implement functions that\n",
    "# - return True if the input string contains a float number\n",
    "# - return False in the other case\n",
    "\n",
    "def is_float(str_int):\n",
    "    # check with the string class provides\n",
    "    \n",
    "    # Check string whether plus or minus in the beginning string \n",
    "    if str_int[0] == \"+\" or str_int[0] == \"-\":\n",
    "        return str_int.replace(str_int[0], \"\", 1)\n",
    "    \n",
    "    # In case if the minus or plus is then check whether point in string\n",
    "        if \".\" in result:\n",
    "            return result.replace(\".\", \"\", 1).isdigit()\n",
    "        if \".\" not in str_int:\n",
    "            return False\n",
    "    # Check string whether point is in the string without plus or minus   \n",
    "    elif \".\" in str_int:\n",
    "        return str_int.replace(\".\", \"\", 1).isdigit()\n",
    "    # Check string whether the numbers only there\n",
    "    elif str_int.isdigit():\n",
    "        return str_int.isdigit()\n",
    "    # Other false cases\n",
    "    else:\n",
    "        return False\n",
    "\n",
    "'''\n",
    "def is_float_with_except(str_int):\n",
    "    # try to convert to float\n",
    "    # and catch the exception\n",
    "    # in case of non-float string\n",
    "    pass\n",
    "'''\n",
    "\n",
    "def check_is_float(check_fun):\n",
    "    assert check_fun(\"345\")\n",
    "    assert check_fun(\"+23\")\n",
    "    #assert check_fun(\"-231\")\n",
    "    #assert not check_fun(\"-23y1\")\n",
    "    #assert not check_fun(\"abc\")\n",
    "    \n",
    "    \n",
    "check_is_float(is_float)\n",
    "#check_is_float(is_float_with_except)"
   ]
  },
  {
   "cell_type": "code",
   "execution_count": null,
   "metadata": {},
   "outputs": [],
   "source": []
  }
 ],
 "metadata": {
  "kernelspec": {
   "display_name": "Python 3",
   "language": "python",
   "name": "python3"
  },
  "language_info": {
   "codemirror_mode": {
    "name": "ipython",
    "version": 3
   },
   "file_extension": ".py",
   "mimetype": "text/x-python",
   "name": "python",
   "nbconvert_exporter": "python",
   "pygments_lexer": "ipython3",
   "version": "3.8.6"
  }
 },
 "nbformat": 4,
 "nbformat_minor": 4
}
