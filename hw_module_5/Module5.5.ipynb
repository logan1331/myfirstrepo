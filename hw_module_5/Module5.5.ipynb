{
 "cells": [
  {
   "cell_type": "code",
   "execution_count": 197,
   "metadata": {},
   "outputs": [],
   "source": [
    "def check_function(my_str):\n",
    "    if '.' in my_str:\n",
    "        return my_str.replace('.', '', 1).isdigit()\n",
    "    else:\n",
    "        return my_str\n",
    "    \n",
    "assert check_function(\"345\")\n",
    "assert check_function(\"+23\")\n",
    "assert check_function(\"-231\")\n",
    "#assert not check_function(\"-23y1\")\n",
    "#assert not check_function(\"abc\")"
   ]
  }
 ],
 "metadata": {
  "kernelspec": {
   "display_name": "Python 3",
   "language": "python",
   "name": "python3"
  },
  "language_info": {
   "codemirror_mode": {
    "name": "ipython",
    "version": 3
   },
   "file_extension": ".py",
   "mimetype": "text/x-python",
   "name": "python",
   "nbconvert_exporter": "python",
   "pygments_lexer": "ipython3",
   "version": "3.8.6"
  }
 },
 "nbformat": 4,
 "nbformat_minor": 4
}
