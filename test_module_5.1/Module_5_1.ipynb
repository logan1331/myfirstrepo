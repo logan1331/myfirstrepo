{
 "cells": [
  {
   "cell_type": "code",
   "execution_count": 60,
   "metadata": {},
   "outputs": [
    {
     "name": "stdout",
     "output_type": "stream",
     "text": [
      "'ABcd' = 'abcd' >>> True\n",
      "'str' = 'sTr' >>> True\n",
      "'zx..QW' = 'zx..QW' >>> True\n",
      "'12345' != '1234' >>> False\n",
      "'abc' != 'abcc' >>> False\n",
      "'12345' != '1234' >>> False\n"
     ]
    }
   ],
   "source": [
    "# Implement a function which makes pairwise string comparison,\n",
    "# ignoring case.\n",
    "# Raise ValueError in case of less than 2 arguments.\n",
    "\n",
    "# Hints:\n",
    "# use enumerate or zip() with arg and arg[1:] \n",
    "# zip produces pairs:\n",
    "# >>> list(zip([1,2,3], [3,2,1]))\n",
    "# [(1, 3), (2, 2), (3, 1)]\n",
    "\n",
    "# a = [1,2,3]\n",
    "# a[1:] => [2,3]\n",
    "\n",
    "def str_compare(*arg):    \n",
    "\n",
    "    for elm_1, elm_2 in list(zip(arg, arg[1:])):\n",
    "        if elm_1.lower() == elm_2.lower():\n",
    "            print(f\"'{elm_1}' = '{elm_2}'\", \">>>\", True)\n",
    "            return True\n",
    "        else:\n",
    "            print(f\"'{elm_1}' != '{elm_2}'\", \">>>\", False)\n",
    "            return False\n",
    "    \n",
    "assert str_compare(\"ABcd\", \"abcd\", \"AbCD\", \"ABCD\")\n",
    "assert str_compare(\"str\", \"sTr\", \"STR\")\n",
    "assert str_compare(\"zx..QW\", \"zx..QW\", \"zX..qw\")\n",
    "assert not str_compare(\"12345\", \"1234\")\n",
    "assert not str_compare(\"abc\", \"abcc\")\n",
    "assert not str_compare(\"12345\", \"1234\")\n",
    "\n",
    "try:\n",
    "    str_compare(\"1\")\n",
    "except ValueError as er:\n",
    "    assert str(er) == \"provide at least 2 arguments\""
   ]
  },
  {
   "cell_type": "code",
   "execution_count": 24,
   "metadata": {},
   "outputs": [],
   "source": []
  }
 ],
 "metadata": {
  "kernelspec": {
   "display_name": "Python 3",
   "language": "python",
   "name": "python3"
  },
  "language_info": {
   "codemirror_mode": {
    "name": "ipython",
    "version": 3
   },
   "file_extension": ".py",
   "mimetype": "text/x-python",
   "name": "python",
   "nbconvert_exporter": "python",
   "pygments_lexer": "ipython3",
   "version": "3.8.6"
  }
 },
 "nbformat": 4,
 "nbformat_minor": 4
}
