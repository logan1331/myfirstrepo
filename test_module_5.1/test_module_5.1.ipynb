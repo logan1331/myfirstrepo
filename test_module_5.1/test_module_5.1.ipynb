{
 "cells": [
  {
   "cell_type": "code",
   "execution_count": 212,
   "metadata": {},
   "outputs": [
    {
     "name": "stdout",
     "output_type": "stream",
     "text": [
      "[False]\n"
     ]
    },
    {
     "ename": "TypeError",
     "evalue": "str_compare() missing 1 required positional argument: 'arg2'",
     "output_type": "error",
     "traceback": [
      "\u001b[0;31m---------------------------------------------------------------------------\u001b[0m",
      "\u001b[0;31mTypeError\u001b[0m                                 Traceback (most recent call last)",
      "\u001b[0;32m<ipython-input-212-022bfe28a1ce>\u001b[0m in \u001b[0;36m<module>\u001b[0;34m\u001b[0m\n\u001b[1;32m     30\u001b[0m \u001b[0;34m\u001b[0m\u001b[0m\n\u001b[1;32m     31\u001b[0m \u001b[0;32mtry\u001b[0m\u001b[0;34m:\u001b[0m\u001b[0;34m\u001b[0m\u001b[0;34m\u001b[0m\u001b[0m\n\u001b[0;32m---> 32\u001b[0;31m     \u001b[0mstr_compare\u001b[0m\u001b[0;34m(\u001b[0m\u001b[0;34m\"1\"\u001b[0m\u001b[0;34m)\u001b[0m\u001b[0;34m\u001b[0m\u001b[0;34m\u001b[0m\u001b[0m\n\u001b[0m\u001b[1;32m     33\u001b[0m     \u001b[0;32mraise\u001b[0m \u001b[0mValueError\u001b[0m\u001b[0;34m(\u001b[0m\u001b[0;34m\"You entered less than 2 arguments\"\u001b[0m\u001b[0;34m)\u001b[0m\u001b[0;34m\u001b[0m\u001b[0;34m\u001b[0m\u001b[0m\n\u001b[1;32m     34\u001b[0m \u001b[0;32mexcept\u001b[0m \u001b[0mValueError\u001b[0m \u001b[0;32mas\u001b[0m \u001b[0mer\u001b[0m\u001b[0;34m:\u001b[0m\u001b[0;34m\u001b[0m\u001b[0;34m\u001b[0m\u001b[0m\n",
      "\u001b[0;31mTypeError\u001b[0m: str_compare() missing 1 required positional argument: 'arg2'"
     ]
    }
   ],
   "source": [
    "# FUNCTION MODULE 5.1\n",
    "\n",
    "# Implement a function which makes pairwise string comparison,\n",
    "# ignoring case.\n",
    "# Raise ValueError in case of less than 2 arguments.\n",
    "\n",
    "# Hints:\n",
    "# use enumerate or zip() with arg and arg[1:] \n",
    "# zip produces pairs:\n",
    "# >>> list(zip([1,2,3], [3,2,1]))\n",
    "# [(1, 3), (2, 2), (3, 1)]\n",
    "\n",
    "# a = [1,2,3]\n",
    "# a[1:] => [2,3]\n",
    "\n",
    "def str_compare(arg1, arg2, *arg):\n",
    "    other_arg = arg\n",
    "    sequences = [elm_1.lower() == elm_2.lower() == elm_oth.lower() for elm_1, elm_2, elm_oth in zip(arg1, arg2, other_arg)]\n",
    "    print(sequences)\n",
    "    return sequences\n",
    "\n",
    "\n",
    "#assert str_compare(\"hello\", \"hello\")\n",
    "#assert str_compare(\"hello\", \"hello\")\n",
    "#assert str_compare(\"str\", \"sTr\", \"STR\")\n",
    "assert str_compare(\"zx..QW\", \"zx..QW\", \"zX..qw\")\n",
    "#assert str_compare(\"12345\", \"12345\")\n",
    "#assert not str_compare(\"abc\", \"abcc\")\n",
    "#assert not str_compare(\"12345\", \"1234\")\n",
    "\n",
    "try:\n",
    "    str_compare(\"1\")\n",
    "except ValueError as er:\n",
    "    assert str(er) == \"provide at least 2 arguments\""
   ]
  },
  {
   "cell_type": "code",
   "execution_count": null,
   "metadata": {},
   "outputs": [],
   "source": [
    "#### PART OF THE TASK USING COMPREHENSION LIST  ####"
   ]
  },
  {
   "cell_type": "code",
   "execution_count": 192,
   "metadata": {},
   "outputs": [
    {
     "name": "stdout",
     "output_type": "stream",
     "text": [
      "[False, False, False]\n"
     ]
    }
   ],
   "source": [
    "def str_compare(arg1, *arg):\n",
    "    sequences = [elm_1.lower() == elm_2.lower() for elm_1, elm_2 in list(zip(arg1, arg))]\n",
    "    print(sequences)\n",
    "    return sequences\n",
    "\n",
    "assert str_compare(\"ABcd\", \"abcd\", \"AbCD\", \"ABCD\")\n",
    "#assert str_compare(\"str\", \"sTr\", \"STR\")\n",
    "#assert str_compare(\"zx..QW\", \"zx..QW\", \"zX..qw\")\n",
    "#assert not str_compare(\"12345\", \"1234\")\n",
    "#assert not str_compare(\"abc\", \"abcc\")\n",
    "#assert not str_compare(\"12345\", \"1234\")"
   ]
  },
  {
   "cell_type": "code",
   "execution_count": null,
   "metadata": {},
   "outputs": [],
   "source": []
  },
  {
   "cell_type": "code",
   "execution_count": null,
   "metadata": {},
   "outputs": [],
   "source": []
  },
  {
   "cell_type": "code",
   "execution_count": 211,
   "metadata": {},
   "outputs": [
    {
     "name": "stdout",
     "output_type": "stream",
     "text": [
      "abc = ABC True\n",
      "ABC = aBc True\n",
      "aBc = AbC True\n"
     ]
    }
   ],
   "source": [
    "def func_compare(*args):\n",
    "    pair_list = list(zip(args, args[1:]))\n",
    "    #return(pair_list)\n",
    "    for i, ii in pair_list:\n",
    "        if i.lower() == ii.lower():\n",
    "            print(f\"{i} = {ii}\", True)\n",
    "        else:\n",
    "            print(f\"{i} != {ii}\", False)\n",
    "func_compare(\"abc\", \"ABC\", \"aBc\", \"AbC\")"
   ]
  },
  {
   "cell_type": "code",
   "execution_count": null,
   "metadata": {},
   "outputs": [],
   "source": []
  },
  {
   "cell_type": "code",
   "execution_count": 207,
   "metadata": {},
   "outputs": [
    {
     "name": "stdout",
     "output_type": "stream",
     "text": [
      "abc = abdc >>> True\n",
      "2 = 2 >>> True\n",
      "Abc = ABC >>> True\n",
      "Abc != ABC >>> False\n"
     ]
    }
   ],
   "source": [
    "a_list = [\"abc\",\"2\",\"Abc\"]\n",
    "b_list = [\"abdc\",\"2\",\"ABC\"]\n",
    "\n",
    "def uniq_function():\n",
    "    \n",
    "    spisok = list(zip(a_list, b_list))\n",
    "    \n",
    "    for i, ii in spisok:\n",
    "        print(f\"{i} = {ii}\", \">>>\", True)\n",
    "    else:\n",
    "        print(f\"{i} != {ii}\", \">>>\", False)\n",
    "uniq_function()\n"
   ]
  },
  {
   "cell_type": "code",
   "execution_count": null,
   "metadata": {},
   "outputs": [],
   "source": []
  },
  {
   "cell_type": "code",
   "execution_count": 196,
   "metadata": {},
   "outputs": [
    {
     "name": "stdout",
     "output_type": "stream",
     "text": [
      "hello != ('hello',) False\n"
     ]
    }
   ],
   "source": [
    "#a_list = [\"abc\",\"2\",\"Abc\"]\n",
    "#b_list = [\"abdc\",\"2\",\"ABC\"]\n",
    "\n",
    "def uniq_function(arg1, *args):\n",
    "    \n",
    "    first_list = []\n",
    "    second_list = []\n",
    "    \n",
    "    first_list.append(arg1)\n",
    "    second_list.append(args)\n",
    "    \n",
    "    spisok = list(zip(first_list, second_list))\n",
    "    for i, ii in spisok:\n",
    "        if i == ii:\n",
    "            print(f\"{i} = {ii}\", True)\n",
    "        else:\n",
    "            print(f\"{i} != {ii}\", False)\n",
    "\n",
    "uniq_function(\"hello\", \"hello\")\n"
   ]
  },
  {
   "cell_type": "code",
   "execution_count": null,
   "metadata": {},
   "outputs": [],
   "source": []
  },
  {
   "cell_type": "code",
   "execution_count": null,
   "metadata": {},
   "outputs": [],
   "source": []
  }
 ],
 "metadata": {
  "kernelspec": {
   "display_name": "Python 3",
   "language": "python",
   "name": "python3"
  },
  "language_info": {
   "codemirror_mode": {
    "name": "ipython",
    "version": 3
   },
   "file_extension": ".py",
   "mimetype": "text/x-python",
   "name": "python",
   "nbconvert_exporter": "python",
   "pygments_lexer": "ipython3",
   "version": "3.8.6"
  }
 },
 "nbformat": 4,
 "nbformat_minor": 4
}
