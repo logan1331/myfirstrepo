{
 "cells": [
  {
   "cell_type": "code",
   "execution_count": 15,
   "metadata": {},
   "outputs": [
    {
     "name": "stdout",
     "output_type": "stream",
     "text": [
      "Enter the first number: \n"
     ]
    },
    {
     "name": "stdin",
     "output_type": "stream",
     "text": [
      " 12\n"
     ]
    },
    {
     "name": "stdout",
     "output_type": "stream",
     "text": [
      "Enter the second number: \n"
     ]
    },
    {
     "name": "stdin",
     "output_type": "stream",
     "text": [
      " 21\n"
     ]
    },
    {
     "name": "stdout",
     "output_type": "stream",
     "text": [
      "Min number is: 12\n"
     ]
    }
   ],
   "source": [
    "# Min of two numbers\n",
    "# The task is to display min from two numbers.\n",
    "print(\"Enter the first number: \")\n",
    "num_1 = int(input())\n",
    "print(\"Enter the second number: \")\n",
    "num_2 = int(input())\n",
    "\n",
    "def min_func(a, b):\n",
    "    if a < b:\n",
    "        print(\"Min number is: {}\".format(a))\n",
    "    elif b < a:\n",
    "        print(\"Min number is: {}\".format(b))\n",
    "    else:\n",
    "        print(\"The numbers equal each other\")\n",
    "\n",
    "min_func(num_1, num_2)"
   ]
  },
  {
   "cell_type": "code",
   "execution_count": null,
   "metadata": {},
   "outputs": [],
   "source": []
  },
  {
   "cell_type": "code",
   "execution_count": 26,
   "metadata": {},
   "outputs": [
    {
     "name": "stdout",
     "output_type": "stream",
     "text": [
      "Enter the number: \n"
     ]
    },
    {
     "name": "stdin",
     "output_type": "stream",
     "text": [
      " 0\n"
     ]
    },
    {
     "name": "stdout",
     "output_type": "stream",
     "text": [
      "The function sign(0) = 0\n"
     ]
    }
   ],
   "source": [
    "# Sign of number\n",
    "# The task is display number using math function sign(x).\n",
    "\n",
    "print(\"Enter the number: \")\n",
    "number = int(input())\n",
    "\n",
    "def sign(x):\n",
    "    if x > 0:\n",
    "        print(\"The function sign({}) = 1\".format(x))\n",
    "    elif x < 0:\n",
    "        print(\"The function sign({}) = -1\".format(x))\n",
    "    else:\n",
    "        print(\"The function sign({}) = 0\".format(x))\n",
    "sign(number)"
   ]
  },
  {
   "cell_type": "code",
   "execution_count": null,
   "metadata": {},
   "outputs": [],
   "source": []
  },
  {
   "cell_type": "code",
   "execution_count": 30,
   "metadata": {},
   "outputs": [
    {
     "name": "stdout",
     "output_type": "stream",
     "text": [
      "Print the 1st number: \n"
     ]
    },
    {
     "name": "stdin",
     "output_type": "stream",
     "text": [
      " 1\n"
     ]
    },
    {
     "name": "stdout",
     "output_type": "stream",
     "text": [
      "Print the 2nd number: \n"
     ]
    },
    {
     "name": "stdin",
     "output_type": "stream",
     "text": [
      " 2\n"
     ]
    },
    {
     "name": "stdout",
     "output_type": "stream",
     "text": [
      "Print the 3rd number: \n"
     ]
    },
    {
     "name": "stdin",
     "output_type": "stream",
     "text": [
      " 1\n"
     ]
    },
    {
     "name": "stdout",
     "output_type": "stream",
     "text": [
      "Print the 4th number: \n"
     ]
    },
    {
     "name": "stdin",
     "output_type": "stream",
     "text": [
      " 1\n"
     ]
    },
    {
     "name": "stdout",
     "output_type": "stream",
     "text": [
      "NO, cells are colored in different color\n"
     ]
    }
   ],
   "source": [
    "# Chess board\n",
    "# One color - Yes, diferent color - No\n",
    "\n",
    "print(\"Print the 1st number: \")\n",
    "rand_num_1 = int(input())\n",
    "\n",
    "print(\"Print the 2nd number: \")\n",
    "rand_num_2 = int(input())\n",
    "\n",
    "print(\"Print the 3rd number: \")\n",
    "rand_num_3 = int(input())\n",
    "\n",
    "print(\"Print the 4th number: \")\n",
    "rand_num_4 = int(input())\n",
    "\n",
    "if (rand_num_1+rand_num_2) % 2 == 0 and (rand_num_3+rand_num_4) % 2 == 0:\n",
    "    print(\"YES, cells are colored in one color\")\n",
    "elif (rand_num_1+rand_num_2) % 2 != 0 and (rand_num_3+rand_num_4) % 2 != 0:\n",
    "    print(\"YES, cells are colored in one color\")\n",
    "else:\n",
    "    print(\"NO, cells are colored in different color\")"
   ]
  },
  {
   "cell_type": "code",
   "execution_count": null,
   "metadata": {},
   "outputs": [],
   "source": []
  },
  {
   "cell_type": "code",
   "execution_count": 86,
   "metadata": {},
   "outputs": [
    {
     "name": "stdout",
     "output_type": "stream",
     "text": [
      "Enter the current year: \n"
     ]
    },
    {
     "name": "stdin",
     "output_type": "stream",
     "text": [
      " 2021\n"
     ]
    },
    {
     "name": "stdout",
     "output_type": "stream",
     "text": [
      "The 2021 year is not leap: NO\n"
     ]
    }
   ],
   "source": [
    "# Leap year\n",
    "# The task is to define whether the year leap or not.\n",
    "\n",
    "print(\"Enter the current year: \")\n",
    "year = int(input())\n",
    "\n",
    "def leap_year(unknown_year):\n",
    "    if (unknown_year % 4 == 0) and (unknown_year % 100 != 0) or (unknown_year % 400 == 0):\n",
    "        print(\"The {} year is leap: YES\".format(unknown_year))\n",
    "    else:\n",
    "        print(\"The {} year is not leap: NO\".format(unknown_year))\n",
    "\n",
    "leap_year(year)"
   ]
  },
  {
   "cell_type": "code",
   "execution_count": null,
   "metadata": {},
   "outputs": [],
   "source": []
  },
  {
   "cell_type": "code",
   "execution_count": 111,
   "metadata": {},
   "outputs": [
    {
     "name": "stdout",
     "output_type": "stream",
     "text": [
      "Enter the first number: \n"
     ]
    },
    {
     "name": "stdin",
     "output_type": "stream",
     "text": [
      " -3\n"
     ]
    },
    {
     "name": "stdout",
     "output_type": "stream",
     "text": [
      "Enter the second number: \n"
     ]
    },
    {
     "name": "stdin",
     "output_type": "stream",
     "text": [
      " -33\n"
     ]
    },
    {
     "name": "stdout",
     "output_type": "stream",
     "text": [
      "Enter the third number: \n"
     ]
    },
    {
     "name": "stdin",
     "output_type": "stream",
     "text": [
      " -5\n"
     ]
    },
    {
     "name": "stdout",
     "output_type": "stream",
     "text": [
      "Min number is: -33\n"
     ]
    }
   ],
   "source": [
    "# Min of three numbers\n",
    "# The task to find the min from three numbers.\n",
    "\n",
    "print(\"Enter the first number: \")\n",
    "num_1 = int(input())\n",
    "\n",
    "print(\"Enter the second number: \")\n",
    "num_2 = int(input())\n",
    "\n",
    "print(\"Enter the third number: \")\n",
    "num_3 = int(input())\n",
    "\n",
    "def min_of_three_func(a, b, c):\n",
    "    if a < b and a < c:\n",
    "        print(\"Min number is: {}\".format(a))\n",
    "    elif b < a and b < c:\n",
    "        print(\"Min number is: {}\".format(b))\n",
    "    else:\n",
    "        print(\"Min number is: {}\".format(c))\n",
    "\n",
    "min_of_three_func(num_1, num_2, num_3)"
   ]
  },
  {
   "cell_type": "code",
   "execution_count": null,
   "metadata": {},
   "outputs": [],
   "source": []
  },
  {
   "cell_type": "code",
   "execution_count": null,
   "metadata": {},
   "outputs": [
    {
     "name": "stdout",
     "output_type": "stream",
     "text": [
      "Enter the first number: \n"
     ]
    }
   ],
   "source": [
    "\n",
    "print(\"Enter the first number: \")\n",
    "num_1 = int(input())\n",
    "\n",
    "print(\"Enter the second number: \")\n",
    "num_2 = int(input())\n",
    "\n",
    "print(\"Enter the third number: \")\n",
    "num_3 = int(input())\n",
    "\n",
    "def equal_numbers_func(a, b, c):\n",
    "    if a == b and a == c:\n",
    "        print(\"3 equal numbers\")\n",
    "    elif a == b or a == c or c == b:\n",
    "        print(\"2 equal numbers\")\n",
    "    else:\n",
    "        print(\"No equal numbers\")\n",
    "\n",
    "equal_numbers_func(num_1, num_2, num_3)"
   ]
  },
  {
   "cell_type": "code",
   "execution_count": null,
   "metadata": {},
   "outputs": [],
   "source": []
  }
 ],
 "metadata": {
  "kernelspec": {
   "display_name": "Python 3",
   "language": "python",
   "name": "python3"
  },
  "language_info": {
   "codemirror_mode": {
    "name": "ipython",
    "version": 3
   },
   "file_extension": ".py",
   "mimetype": "text/x-python",
   "name": "python",
   "nbconvert_exporter": "python",
   "pygments_lexer": "ipython3",
   "version": "3.8.6"
  }
 },
 "nbformat": 4,
 "nbformat_minor": 4
}
