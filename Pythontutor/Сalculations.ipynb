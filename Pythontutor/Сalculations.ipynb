{
 "cells": [
  {
   "cell_type": "code",
   "execution_count": 25,
   "metadata": {},
   "outputs": [
    {
     "name": "stdin",
     "output_type": "stream",
     "text": [
      " 123\n"
     ]
    },
    {
     "name": "stdout",
     "output_type": "stream",
     "text": [
      "3\n"
     ]
    }
   ],
   "source": [
    "# Ring road\n",
    "# The task is to print last digit from the given number.\n",
    "\n",
    "number = input()\n",
    "\n",
    "def print_last_digit(num):\n",
    "    print(num[-1])\n",
    "\n",
    "print_last_digit(number)"
   ]
  },
  {
   "cell_type": "code",
   "execution_count": null,
   "metadata": {},
   "outputs": [],
   "source": []
  },
  {
   "cell_type": "code",
   "execution_count": 40,
   "metadata": {},
   "outputs": [
    {
     "name": "stdin",
     "output_type": "stream",
     "text": [
      " -60\n",
      " 4\n"
     ]
    },
    {
     "name": "stdout",
     "output_type": "stream",
     "text": [
      "87\n"
     ]
    }
   ],
   "source": [
    "# Last digit of the number\n",
    "# Determine where the biker will stop.\n",
    "\n",
    "road_lenrth = 109\n",
    "speed = int(input())\n",
    "time = int(input())\n",
    "\n",
    "def stop_biker(v,t):\n",
    "    place = v * t\n",
    "    final_place = place % road_lenrth\n",
    "    print(final_place)\n",
    "\n",
    "stop_biker(speed, time)"
   ]
  },
  {
   "cell_type": "code",
   "execution_count": null,
   "metadata": {},
   "outputs": [],
   "source": []
  },
  {
   "cell_type": "code",
   "execution_count": 196,
   "metadata": {},
   "outputs": [
    {
     "name": "stdin",
     "output_type": "stream",
     "text": [
      " 10.34\n"
     ]
    },
    {
     "name": "stdout",
     "output_type": "stream",
     "text": [
      "0.34\n"
     ]
    }
   ],
   "source": [
    "# Fractional part\n",
    "# Tae task is to print fractional part from positive real number.\n",
    "number=float(input())\n",
    "\n",
    "def frac_part(num):\n",
    "    var_num = str(num)\n",
    "    if var_num[0] == \"0\":\n",
    "        print(var_num)\n",
    "    else:\n",
    "        var_frac_part = num % int(num)\n",
    "        print(\"{:.2f}\".format(var_frac_part))\n",
    "frac_part(number)"
   ]
  },
  {
   "cell_type": "code",
   "execution_count": null,
   "metadata": {},
   "outputs": [],
   "source": []
  },
  {
   "cell_type": "code",
   "execution_count": 46,
   "metadata": {},
   "outputs": [
    {
     "name": "stdin",
     "output_type": "stream",
     "text": [
      " 1024.13\n"
     ]
    },
    {
     "name": "stdout",
     "output_type": "stream",
     "text": [
      "1\n"
     ]
    }
   ],
   "source": [
    "# The firs number after point\n",
    "# The task is to display first number after point.\n",
    "number = str(input())\n",
    "\n",
    "def find_number_func(num):\n",
    "    if \".\" in num:\n",
    "        s = num.find(\".\")\n",
    "        print(num[s+1])\n",
    "    else:\n",
    "        print(\"0\")\n",
    "\n",
    "find_number_func(number)"
   ]
  },
  {
   "cell_type": "code",
   "execution_count": null,
   "metadata": {},
   "outputs": [],
   "source": []
  }
 ],
 "metadata": {
  "kernelspec": {
   "display_name": "Python 3",
   "language": "python",
   "name": "python3"
  },
  "language_info": {
   "codemirror_mode": {
    "name": "ipython",
    "version": 3
   },
   "file_extension": ".py",
   "mimetype": "text/x-python",
   "name": "python",
   "nbconvert_exporter": "python",
   "pygments_lexer": "ipython3",
   "version": "3.8.6"
  }
 },
 "nbformat": 4,
 "nbformat_minor": 4
}
