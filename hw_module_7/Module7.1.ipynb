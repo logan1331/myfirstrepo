{
 "cells": [
  {
   "cell_type": "code",
   "execution_count": 14,
   "metadata": {},
   "outputs": [],
   "source": [
    "class Singleton:\n",
    "    __instance = None\n",
    "    def __new__(cls, *args):\n",
    "        if cls.__instance is None:\n",
    "            cls.__instance = object.__new__(cls, *args)\n",
    "        return cls.__instance"
   ]
  },
  {
   "cell_type": "code",
   "execution_count": 15,
   "metadata": {},
   "outputs": [],
   "source": [
    "new_instance_1 = Singleton()\n",
    "new_instance_2 = Singleton()\n",
    "new_instance_3 = Singleton()"
   ]
  },
  {
   "cell_type": "code",
   "execution_count": 16,
   "metadata": {},
   "outputs": [
    {
     "name": "stdout",
     "output_type": "stream",
     "text": [
      "new_instance_1: 4593137744\n",
      "new_instance_2: 4593137744\n",
      "new_instance_3: 4593137744\n"
     ]
    }
   ],
   "source": [
    "print(f\"new_instance_1: {id(new_instance_1)}\")\n",
    "print(f\"new_instance_2: {id(new_instance_2)}\")\n",
    "print(f\"new_instance_3: {id(new_instance_3)}\")"
   ]
  },
  {
   "cell_type": "code",
   "execution_count": null,
   "metadata": {},
   "outputs": [],
   "source": []
  }
 ],
 "metadata": {
  "kernelspec": {
   "display_name": "Python 3",
   "language": "python",
   "name": "python3"
  },
  "language_info": {
   "codemirror_mode": {
    "name": "ipython",
    "version": 3
   },
   "file_extension": ".py",
   "mimetype": "text/x-python",
   "name": "python",
   "nbconvert_exporter": "python",
   "pygments_lexer": "ipython3",
   "version": "3.8.6"
  }
 },
 "nbformat": 4,
 "nbformat_minor": 4
}
