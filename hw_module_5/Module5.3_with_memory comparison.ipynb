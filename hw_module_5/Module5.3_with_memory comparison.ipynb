{
 "cells": [
  {
   "cell_type": "code",
   "execution_count": 11,
   "metadata": {},
   "outputs": [
    {
     "name": "stdout",
     "output_type": "stream",
     "text": [
      "size of rand_list:  81528048\n",
      "size of get_day_peak:  136\n",
      "97925\n"
     ]
    }
   ],
   "source": [
    "# Implement a generator which produces random numbers (randint)\n",
    "# from 0 to MAX_PEAK, count = _SIZE\n",
    "# (increase it, if your computer is too fast).\n",
    "# Compare memory consumption with list implementation (all values)\n",
    "import sys\n",
    "import random\n",
    "\n",
    "_SIZE = int(1e7)\n",
    "MAX_PEAK = 101\n",
    "\n",
    "def get_day_peaks():\n",
    "    for elm in range(_SIZE):\n",
    "        yield random.randint(0, MAX_PEAK)\n",
    "\n",
    "\n",
    "counter = 0\n",
    "alerts = 0\n",
    "for i in get_day_peaks():\n",
    "    counter += 1\n",
    "    if i > 100:\n",
    "        alerts += 1\n",
    "        \n",
    "rand_list = [random.randint(0, MAX_PEAK) for elm in range(_SIZE)]\n",
    "print(f\"size of rand_list:  {sys.getsizeof(rand_list)}\")        \n",
    "print(f\"size of get_day_peak:  {sys.getsizeof(get_day_peaks)}\")\n",
    "\n",
    "print(alerts)\n",
    "assert _SIZE == counter"
   ]
  }
 ],
 "metadata": {
  "kernelspec": {
   "display_name": "Python 3",
   "language": "python",
   "name": "python3"
  },
  "language_info": {
   "codemirror_mode": {
    "name": "ipython",
    "version": 3
   },
   "file_extension": ".py",
   "mimetype": "text/x-python",
   "name": "python",
   "nbconvert_exporter": "python",
   "pygments_lexer": "ipython3",
   "version": "3.8.6"
  }
 },
 "nbformat": 4,
 "nbformat_minor": 4
}
