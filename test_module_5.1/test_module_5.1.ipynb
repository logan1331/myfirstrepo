{
 "cells": [
  {
   "cell_type": "code",
   "execution_count": null,
   "metadata": {},
   "outputs": [],
   "source": [
    "# FUNCTION MODULE 5.1\n",
    "\n",
    "# Implement a function which makes pairwise string comparison,\n",
    "# ignoring case.\n",
    "# Raise ValueError in case of less than 2 arguments.\n",
    "\n",
    "# Hints:\n",
    "# use enumerate or zip() with arg and arg[1:] \n",
    "# zip produces pairs:\n",
    "# >>> list(zip([1,2,3], [3,2,1]))\n",
    "# [(1, 3), (2, 2), (3, 1)]\n",
    "\n",
    "# a = [1,2,3]\n",
    "# a[1:] => [2,3]\n",
    "\n",
    "def str_compare(*arg):\n",
    "    pass\n",
    "\n",
    "assert str_compare(\"ABcd\", \"abcd\", \"AbCD\", \"ABCD\")\n",
    "assert str_compare(\"str\", \"sTr\", \"STR\")\n",
    "assert str_compare(\"zx..QW\", \"zx..QW\", \"zX..qw\")\n",
    "assert not str_compare(\"12345\", \"1234\")\n",
    "assert not str_compare(\"abc\", \"abcc\")\n",
    "assert not str_compare(\"12345\", \"1234\")\n",
    "\n",
    "try:\n",
    "    str_compare(\"1\")\n",
    "except ValueError as er:\n",
    "    assert str(er) == \"provide at least 2 arguments\""
   ]
  },
  {
   "cell_type": "code",
   "execution_count": 143,
   "metadata": {},
   "outputs": [],
   "source": [
    "#### MY WORK.......... #####"
   ]
  },
  {
   "cell_type": "code",
   "execution_count": null,
   "metadata": {},
   "outputs": [],
   "source": [
    "#### PART OF THE TASK USING CLASSIC LOOP CONSTRACTION 'FOR' ####"
   ]
  },
  {
   "cell_type": "code",
   "execution_count": null,
   "metadata": {},
   "outputs": [],
   "source": [
    "arg1 = [\"Hello\", \"Boby\"]\n",
    "arg2 = [\"HELLO\", \"BOBY\"]\n",
    "\n",
    "jlist = list(zip(arg1, arg2))\n",
    "\n",
    "for elm1, elm2 in jlist:\n",
    "    if elm1.lower() == elm2.lower():\n",
    "        print(f'{elm1} =  {elm2}')\n",
    "    else:\n",
    "        print(f'{elm1} != {elm2}')"
   ]
  },
  {
   "cell_type": "code",
   "execution_count": null,
   "metadata": {},
   "outputs": [],
   "source": []
  },
  {
   "cell_type": "code",
   "execution_count": null,
   "metadata": {},
   "outputs": [],
   "source": [
    "#### PART OF THE TASK USING COMPREHENSION LIST  ####"
   ]
  },
  {
   "cell_type": "code",
   "execution_count": 136,
   "metadata": {},
   "outputs": [
    {
     "name": "stdout",
     "output_type": "stream",
     "text": [
      "[True, True]\n"
     ]
    }
   ],
   "source": [
    "arg1 = [\"Hello\", \"Boby\"]\n",
    "arg2 = [\"HELLO\", \"BOBY\"]\n",
    "\n",
    "squares = [elm_1.lower() == elm_2.lower() for elm_1, elm_2 in zip(arg1, arg2)]\n",
    "print(squares)"
   ]
  },
  {
   "cell_type": "code",
   "execution_count": null,
   "metadata": {},
   "outputs": [],
   "source": []
  },
  {
   "cell_type": "code",
   "execution_count": null,
   "metadata": {},
   "outputs": [],
   "source": [
    "#### PART OF THE TASK USING FUNCTION ####"
   ]
  },
  {
   "cell_type": "code",
   "execution_count": 139,
   "metadata": {},
   "outputs": [
    {
     "name": "stdout",
     "output_type": "stream",
     "text": [
      "'h' = 'H'  True\n",
      "'e' = 'E'  True\n",
      "'l' = 'L'  True\n",
      "'l' = 'L'  True\n",
      "'o' = 'O'  True\n"
     ]
    }
   ],
   "source": [
    "def match_pair(arg1, arg2, *args):\n",
    "    for elm1, elm2 in (list(zip(arg1, arg2))):\n",
    "        if elm1.lower() == elm2.lower():\n",
    "            print(f\"'{elm1}' = '{elm2}' \", True)\n",
    "        else:\n",
    "            print(f\"'{elm1}' != '{elm2}' \", False)\n",
    "match_pair(\"hello\", \"HELLO\")"
   ]
  },
  {
   "cell_type": "code",
   "execution_count": null,
   "metadata": {},
   "outputs": [],
   "source": []
  },
  {
   "cell_type": "code",
   "execution_count": null,
   "metadata": {},
   "outputs": [],
   "source": []
  }
 ],
 "metadata": {
  "kernelspec": {
   "display_name": "Python 3",
   "language": "python",
   "name": "python3"
  },
  "language_info": {
   "codemirror_mode": {
    "name": "ipython",
    "version": 3
   },
   "file_extension": ".py",
   "mimetype": "text/x-python",
   "name": "python",
   "nbconvert_exporter": "python",
   "pygments_lexer": "ipython3",
   "version": "3.8.6"
  }
 },
 "nbformat": 4,
 "nbformat_minor": 4
}
